{
 "cells": [
  {
   "cell_type": "markdown",
   "metadata": {},
   "source": [
    "#### Loops "
   ]
  },
  {
   "cell_type": "code",
   "execution_count": 5,
   "metadata": {},
   "outputs": [
    {
     "name": "stdout",
     "output_type": "stream",
     "text": [
      "5 * 1 = 5\n",
      "5 * 2 = 10\n",
      "5 * 3 = 15\n",
      "5 * 4 = 20\n",
      "5 * 5 = 25\n",
      "5 * 6 = 30\n",
      "5 * 7 = 35\n",
      "5 * 8 = 40\n",
      "5 * 9 = 45\n",
      "5 * 10 = 50\n"
     ]
    }
   ],
   "source": [
    "#print table of 5\n",
    "n=5\n",
    "for i in range(1, 11):\n",
    "\tprint(n,\"*\",i,\"=\",n*i)"
   ]
  },
  {
   "cell_type": "code",
   "execution_count": 12,
   "metadata": {},
   "outputs": [
    {
     "name": "stdout",
     "output_type": "stream",
     "text": [
      "1.0\n",
      "0.5\n",
      "0.3333333333333333\n",
      "0.25\n"
     ]
    }
   ],
   "source": [
    "for i in range(1,5):\n",
    "\tprint(1.0/i)"
   ]
  },
  {
   "cell_type": "code",
   "execution_count": 3,
   "metadata": {},
   "outputs": [
    {
     "name": "stdout",
     "output_type": "stream",
     "text": [
      "1.2.3.4.5.6.7.8.9.10."
     ]
    }
   ],
   "source": [
    "#while loop to print nos from  1 to 10\n",
    "count=1\n",
    "while count<=10:\n",
    "\tprint(count, end=\".\")\n",
    "\tcount=count+1\n",
    "#Output: 1.2.3.4.5.6.7.8.9.10.    "
   ]
  },
  {
   "cell_type": "code",
   "execution_count": 8,
   "metadata": {},
   "outputs": [
    {
     "name": "stdout",
     "output_type": "stream",
     "text": [
      "Enter number : 15\n",
      "15.14.13.12.11.\n",
      "False condition or loop\n"
     ]
    }
   ],
   "source": [
    "#while-else\n",
    "a = eval(input(\"Enter number : \"))\n",
    "while a>10:\n",
    "        print(a,end=\".\")\n",
    "        a=a-1\n",
    "else:\n",
    "        print(\"\\nFalse condition or loop\")\n",
    "#Output:\n",
    "#Enter number : 15\n",
    "#15.14.13.12.11.\n",
    "#False condition or loop"
   ]
  },
  {
   "cell_type": "code",
   "execution_count": 11,
   "metadata": {},
   "outputs": [
    {
     "name": "stdout",
     "output_type": "stream",
     "text": [
      "1\n",
      "2\n",
      "3\n",
      "4\n",
      "5\n"
     ]
    }
   ],
   "source": [
    "#for with tuple\n",
    "for i in (1,2,3,4,5):\n",
    "\tprint(i)"
   ]
  },
  {
   "cell_type": "code",
   "execution_count": 13,
   "metadata": {},
   "outputs": [
    {
     "name": "stdout",
     "output_type": "stream",
     "text": [
      "r= 5\n",
      "a= 6\n",
      "n = 7\n",
      "6.0\n",
      "30.0\n",
      "150.0\n",
      "750.0\n",
      "3750.0\n",
      "18750.0\n",
      "93750.0\n"
     ]
    }
   ],
   "source": [
    "#Geometric progression\n",
    "r = float(input('r= '))\n",
    "a = float(input('a= '))\n",
    "n = int(input('n = '))\n",
    "\n",
    "term = a\n",
    "print(term)\n",
    "for i in range(1,n):\n",
    "\tterm = term * r #(i+1)th term\n",
    "\tprint(term)#display (i+1)th term"
   ]
  },
  {
   "cell_type": "markdown",
   "metadata": {},
   "source": [
    "##### Nested loop "
   ]
  },
  {
   "cell_type": "code",
   "execution_count": 14,
   "metadata": {},
   "outputs": [
    {
     "name": "stdout",
     "output_type": "stream",
     "text": [
      "1 2 3 4 5 \n",
      "2 4 6 8 10 \n",
      "3 6 9 12 15 \n",
      "4 8 12 16 20 \n",
      "5 10 15 20 25 \n",
      "6 12 18 24 30 \n",
      "7 14 21 28 35 \n",
      "8 16 24 32 40 \n"
     ]
    }
   ],
   "source": [
    "for i in range(1,9):\n",
    "\tfor j in  range(1,6):\n",
    "\t\tprint (i*j, end=' ')\n",
    "\tprint()"
   ]
  },
  {
   "cell_type": "code",
   "execution_count": 15,
   "metadata": {},
   "outputs": [
    {
     "name": "stdout",
     "output_type": "stream",
     "text": [
      "1.2.3.3.4.5."
     ]
    }
   ],
   "source": [
    "##print with '.' as separater\n",
    "for i in range(1,4):\n",
    "\tfor j in range(i, 2*i):\n",
    "\t\tprint(j, end='.')"
   ]
  },
  {
   "cell_type": "code",
   "execution_count": 17,
   "metadata": {},
   "outputs": [
    {
     "name": "stdout",
     "output_type": "stream",
     "text": [
      "123345"
     ]
    }
   ],
   "source": [
    "#print without any separater\n",
    "for i in range(1,4):\n",
    "\tfor j in range(i, 2*i):\n",
    "\t\tprint(j, end='')"
   ]
  },
  {
   "cell_type": "markdown",
   "metadata": {},
   "source": [
    "#### Break and continue"
   ]
  },
  {
   "cell_type": "code",
   "execution_count": 18,
   "metadata": {},
   "outputs": [
    {
     "name": "stdout",
     "output_type": "stream",
     "text": [
      "1 3 5 7 9 11 "
     ]
    }
   ],
   "source": [
    "#print odd nos<10\n",
    "i=0\n",
    "while i<=10:\n",
    "    i=i+1   \n",
    "    if i%2==0:\n",
    "        continue\n",
    "    else:         \n",
    "        print(i, end=' ')"
   ]
  },
  {
   "cell_type": "code",
   "execution_count": 20,
   "metadata": {},
   "outputs": [
    {
     "name": "stdout",
     "output_type": "stream",
     "text": [
      "320\n"
     ]
    }
   ],
   "source": [
    "r,a,n = 2,10,20\n",
    "term = a\n",
    "for i in range(n):\n",
    "    term = term * r\n",
    "    if (i > 3):\n",
    "        break\n",
    "print (term)"
   ]
  },
  {
   "cell_type": "markdown",
   "metadata": {},
   "source": [
    "#### Functions "
   ]
  },
  {
   "cell_type": "code",
   "execution_count": 2,
   "metadata": {},
   "outputs": [
    {
     "name": "stdout",
     "output_type": "stream",
     "text": [
      "9\n"
     ]
    }
   ],
   "source": [
    "#defining method/function\n",
    "def add(a,b):\n",
    "    return(a+b)\n",
    "#calling method/function\n",
    "print(add(5,4))"
   ]
  },
  {
   "cell_type": "code",
   "execution_count": 3,
   "metadata": {},
   "outputs": [
    {
     "name": "stdout",
     "output_type": "stream",
     "text": [
      "Hello World\n"
     ]
    }
   ],
   "source": [
    "#printString method\n",
    "def printString(str):\n",
    "\tprint(str)\n",
    "\n",
    "printString(\"Hello World\")"
   ]
  },
  {
   "cell_type": "code",
   "execution_count": 5,
   "metadata": {},
   "outputs": [],
   "source": [
    "#find max of 4 numbers-Nice Question\n",
    "x1=5\n",
    "x2=3\n",
    "x3=10\n",
    "x4=1"
   ]
  },
  {
   "cell_type": "code",
   "execution_count": 7,
   "metadata": {},
   "outputs": [],
   "source": [
    "y1 = min(x1, x2) #min\n",
    "y2 = min(x3,x4) #min\n",
    "y3 = x1 + x2 - y1 #min is removed, max(x1, x2) remains\n",
    "y4 = x3 + x4 -y2#min is removed, max(x3, x4) remains\n",
    "y5 = max (y3, y4) #max(max(x1,x2),max(x3,x4())"
   ]
  },
  {
   "cell_type": "code",
   "execution_count": 8,
   "metadata": {},
   "outputs": [
    {
     "name": "stdout",
     "output_type": "stream",
     "text": [
      "max of x1,x2,x3,x4:  10\n"
     ]
    }
   ],
   "source": [
    "print(\"max of x1,x2,x3,x4: \",y5)"
   ]
  },
  {
   "cell_type": "markdown",
   "metadata": {},
   "source": [
    "#### assert keyword "
   ]
  },
  {
   "cell_type": "code",
   "execution_count": 7,
   "metadata": {},
   "outputs": [
    {
     "ename": "AssertionError",
     "evalue": "",
     "output_type": "error",
     "traceback": [
      "\u001b[1;31m---------------------------------------------------------------------------\u001b[0m",
      "\u001b[1;31mAssertionError\u001b[0m                            Traceback (most recent call last)",
      "\u001b[1;32m<ipython-input-7-255728e46539>\u001b[0m in \u001b[0;36m<module>\u001b[1;34m\u001b[0m\n\u001b[0;32m      5\u001b[0m \u001b[1;33m\u001b[0m\u001b[0m\n\u001b[0;32m      6\u001b[0m \u001b[1;31m#if condition returns False, AssertionError is raised:\u001b[0m\u001b[1;33m\u001b[0m\u001b[1;33m\u001b[0m\u001b[1;33m\u001b[0m\u001b[0m\n\u001b[1;32m----> 7\u001b[1;33m \u001b[1;32massert\u001b[0m \u001b[0mx\u001b[0m \u001b[1;33m==\u001b[0m \u001b[1;34m\"goodbye\"\u001b[0m\u001b[1;33m\u001b[0m\u001b[1;33m\u001b[0m\u001b[0m\n\u001b[0m",
      "\u001b[1;31mAssertionError\u001b[0m: "
     ]
    }
   ],
   "source": [
    "x = \"hello\"\n",
    "\n",
    "#if condition returns True, then nothing happens:\n",
    "assert x == \"hello\"\n",
    "\n",
    "#if condition returns False, AssertionError is raised:\n",
    "assert x == \"goodbye\"#AssertionError is raised"
   ]
  },
  {
   "cell_type": "code",
   "execution_count": 8,
   "metadata": {},
   "outputs": [
    {
     "ename": "AssertionError",
     "evalue": "x should be 'hello'",
     "output_type": "error",
     "traceback": [
      "\u001b[1;31m---------------------------------------------------------------------------\u001b[0m",
      "\u001b[1;31mAssertionError\u001b[0m                            Traceback (most recent call last)",
      "\u001b[1;32m<ipython-input-8-a13cd6e9aadd>\u001b[0m in \u001b[0;36m<module>\u001b[1;34m\u001b[0m\n\u001b[0;32m      2\u001b[0m \u001b[1;33m\u001b[0m\u001b[0m\n\u001b[0;32m      3\u001b[0m \u001b[1;31m#if condition returns False, AssertionError is raised:\u001b[0m\u001b[1;33m\u001b[0m\u001b[1;33m\u001b[0m\u001b[1;33m\u001b[0m\u001b[0m\n\u001b[1;32m----> 4\u001b[1;33m \u001b[1;32massert\u001b[0m \u001b[0mx\u001b[0m \u001b[1;33m==\u001b[0m \u001b[1;34m\"goodbye\"\u001b[0m\u001b[1;33m,\u001b[0m \u001b[1;34m\"x should be 'hello'\"\u001b[0m\u001b[1;33m\u001b[0m\u001b[1;33m\u001b[0m\u001b[0m\n\u001b[0m",
      "\u001b[1;31mAssertionError\u001b[0m: x should be 'hello'"
     ]
    }
   ],
   "source": [
    "x = \"hello\"\n",
    "\n",
    "#if condition returns False, AssertionError is raised:\n",
    "assert x == \"goodbye\", \"x should be 'hello'\"\n",
    "#AssertionError: x should be 'hello'"
   ]
  },
  {
   "cell_type": "markdown",
   "metadata": {},
   "source": [
    "##### Scope Rules "
   ]
  },
  {
   "cell_type": "code",
   "execution_count": 24,
   "metadata": {},
   "outputs": [],
   "source": [
    "def max(a1,b1):\n",
    "    m1=0\n",
    "    if(a1>b1):\n",
    "        m1=a1;\n",
    "    else:\n",
    "        m1=b1\n",
    "    return m1\n",
    "\n",
    "def min(a2,b2):\n",
    "    m2=0\n",
    "    if(a2<b2):\n",
    "        m2=a2;\n",
    "    else:\n",
    "        m2=b2\n",
    "    return m2"
   ]
  },
  {
   "cell_type": "code",
   "execution_count": 25,
   "metadata": {},
   "outputs": [
    {
     "name": "stdout",
     "output_type": "stream",
     "text": [
      "7\n"
     ]
    }
   ],
   "source": [
    "print(max(5,7))"
   ]
  },
  {
   "cell_type": "code",
   "execution_count": 26,
   "metadata": {},
   "outputs": [
    {
     "name": "stdout",
     "output_type": "stream",
     "text": [
      "5\n"
     ]
    }
   ],
   "source": [
    "print(min(5,7))"
   ]
  },
  {
   "cell_type": "markdown",
   "metadata": {},
   "source": [
    "##### Nested Function "
   ]
  },
  {
   "cell_type": "code",
   "execution_count": 28,
   "metadata": {},
   "outputs": [
    {
     "name": "stdout",
     "output_type": "stream",
     "text": [
      "Hi\n"
     ]
    }
   ],
   "source": [
    "def outerFunction(text):  \n",
    "    text = text  \n",
    "    \n",
    "    def nestedFunction():  \n",
    "        print(text)  \n",
    "    \n",
    "    nestedFunction()  \n",
    "    \n",
    "outerFunction(\"Hi\")"
   ]
  },
  {
   "cell_type": "markdown",
   "metadata": {},
   "source": [
    "### Call by value and call by reference "
   ]
  },
  {
   "cell_type": "code",
   "execution_count": 21,
   "metadata": {},
   "outputs": [
    {
     "name": "stdout",
     "output_type": "stream",
     "text": [
      "ami : mentor\n",
      "abhay : business man\n",
      "aayushi : teacher\n",
      "Pruthvi : Raja\n"
     ]
    }
   ],
   "source": [
    "#call by value\n",
    "def myfun(name, role):\n",
    "    print(name,\":\",role)    \n",
    "#fucntion call\n",
    "myfun(name=\"ami\", role=\"mentor\")\n",
    "\n",
    "def main():\n",
    "    myfun(name=\"aayushi\",role=\"teacher\")\n",
    "    myfun(\"Pruthvi\",\"Raja\")\n",
    "#fucntion call\n",
    "myfun(name=\"abhay\", role=\"business man\")\n",
    "main()\n",
    "#o/P:\n",
    "#ami : mentor\n",
    "#abhay : business man\n",
    "#aayushi : teacher\n",
    "#Pruthvi : Raja"
   ]
  },
  {
   "cell_type": "code",
   "execution_count": 26,
   "metadata": {},
   "outputs": [
    {
     "name": "stdout",
     "output_type": "stream",
     "text": [
      "10:\n",
      "10:20:\n",
      "10:20:30:\n"
     ]
    }
   ],
   "source": [
    "#Call by reference\n",
    "def student(*arg):\n",
    "    for i in arg:\n",
    "        print(i,end=\":\")\n",
    "    print()\n",
    "def main():\n",
    "    #this will not work\n",
    "    #student(fname=\"ami\",lname=\"choksi\")\n",
    "    #this will work\n",
    "    student(10)\n",
    "    student(10,20)\n",
    "    student(10,20,30)\n",
    "main()\n",
    "#O/P:\n",
    "#10:\n",
    "#10:20:\n",
    "#10:20:30:"
   ]
  },
  {
   "cell_type": "markdown",
   "metadata": {},
   "source": [
    "#### Global variable "
   ]
  },
  {
   "cell_type": "code",
   "execution_count": 35,
   "metadata": {},
   "outputs": [
    {
     "name": "stdout",
     "output_type": "stream",
     "text": [
      "6\n",
      "5\n"
     ]
    }
   ],
   "source": [
    "COUNT = 5\n",
    "\n",
    "def increment():\n",
    "    global COUNT\n",
    "    COUNT = COUNT+1\n",
    "def decrement():\n",
    "    global COUNT\n",
    "    COUNT = COUNT-1\n",
    "    \n",
    "increment()\n",
    "print(COUNT)\n",
    "decrement()\n",
    "print(COUNT)"
   ]
  },
  {
   "cell_type": "code",
   "execution_count": 32,
   "metadata": {},
   "outputs": [
    {
     "name": "stdout",
     "output_type": "stream",
     "text": [
      "50 50\n"
     ]
    }
   ],
   "source": [
    "#Scope Rules\n",
    "FACTOR = 10\n",
    "def f(r):\n",
    "\treturn FACTOR * r\n",
    "def update_FACTOR():  \n",
    "\tFACTOR = 16   \n",
    "\n",
    "x =f(5)\n",
    "update_FACTOR()\n",
    "y = f(5)\n",
    "print (x, y)\n"
   ]
  },
  {
   "cell_type": "code",
   "execution_count": 36,
   "metadata": {},
   "outputs": [
    {
     "name": "stdout",
     "output_type": "stream",
     "text": [
      "14 20\n"
     ]
    }
   ],
   "source": [
    "#Passed Parameter Scope\n",
    "M = 10\n",
    "\n",
    "def double(M):\n",
    "\treturn M+M\n",
    "\n",
    "print (double(7), double(M))"
   ]
  },
  {
   "cell_type": "markdown",
   "metadata": {},
   "source": [
    "#### Data Types in Details "
   ]
  },
  {
   "cell_type": "markdown",
   "metadata": {},
   "source": [
    "##### String "
   ]
  },
  {
   "cell_type": "code",
   "execution_count": 37,
   "metadata": {},
   "outputs": [
    {
     "name": "stdout",
     "output_type": "stream",
     "text": [
      "10\n",
      "3\n",
      "ami choksi's designation is associate professor\n",
      "ami choksiami choksiami choksiami choksiami choksi\n"
     ]
    }
   ],
   "source": [
    "#String Operations\n",
    "name=\"ami choksi\"\n",
    "\n",
    "#length of the string\n",
    "print(len(name))#Output 10\n",
    "print(len('1\\n2'))#Output 3\n",
    "\n",
    "#Concatenate and Repeat\n",
    "designation = name + \"'s designation is associate professor\"\n",
    "print(designation)#ami choksi's designation is associate professor\n",
    "#n times Repeatation - *n\n",
    "print(name*5)#ami choksiami choksiami choksiami choksiami choksi\n"
   ]
  },
  {
   "cell_type": "code",
   "execution_count": 9,
   "metadata": {},
   "outputs": [
    {
     "name": "stdout",
     "output_type": "stream",
     "text": [
      "['my', 'name', 'is', 'ami']\n",
      "mynameisami\n"
     ]
    }
   ],
   "source": []
  },
  {
   "cell_type": "code",
   "execution_count": 11,
   "metadata": {},
   "outputs": [
    {
     "name": "stdout",
     "output_type": "stream",
     "text": [
      "['my', 'name', 'is', 'ami']\n"
     ]
    }
   ],
   "source": [
    "#split()\n",
    "b=\"my:name:is:ami\"\n",
    "c=b.split(':')\n",
    "print(c)#['my', 'name', 'is', 'ami']"
   ]
  },
  {
   "cell_type": "code",
   "execution_count": 15,
   "metadata": {},
   "outputs": [
    {
     "name": "stdout",
     "output_type": "stream",
     "text": [
      "ami\n",
      "AMI\n",
      "ami\n"
     ]
    }
   ],
   "source": [
    "#upper() lower()\n",
    "s=\"ami\"\n",
    "print(s)#'ami'\n",
    "up=s.upper()\n",
    "print(up)#'AMI'\n",
    "ls=s.lower()\n",
    "print(ls)#'ami'"
   ]
  },
  {
   "cell_type": "code",
   "execution_count": 39,
   "metadata": {},
   "outputs": [
    {
     "name": "stdout",
     "output_type": "stream",
     "text": [
      "8\n",
      "8\n"
     ]
    }
   ],
   "source": [
    "#Special case\n",
    "#print(len('Amy's' + 'Pen')) #Error as single quoted string needs to escape the single quote\n",
    "print(len(\"Amy\\'s\" + \"Pen\"))#Output: 8, as single quote inside string is escaped\n",
    "print(len(\"Amy's\" + \"Pen\"))#Output: 8, as double quoted string by default escapes the single quote inside the string"
   ]
  },
  {
   "cell_type": "code",
   "execution_count": 41,
   "metadata": {},
   "outputs": [],
   "source": [
    "#String and Indexing\n",
    "name='Acads'"
   ]
  },
  {
   "cell_type": "code",
   "execution_count": 42,
   "metadata": {},
   "outputs": [
    {
     "name": "stdout",
     "output_type": "stream",
     "text": [
      "A\n"
     ]
    }
   ],
   "source": [
    "print(name[0])"
   ]
  },
  {
   "cell_type": "code",
   "execution_count": 43,
   "metadata": {},
   "outputs": [
    {
     "name": "stdout",
     "output_type": "stream",
     "text": [
      "d\n"
     ]
    }
   ],
   "source": [
    "print(name[3])"
   ]
  },
  {
   "cell_type": "code",
   "execution_count": 44,
   "metadata": {},
   "outputs": [
    {
     "name": "stdout",
     "output_type": "stream",
     "text": [
      "s\n"
     ]
    }
   ],
   "source": [
    "#-1 is starting string from reverse\n",
    "print(name[-1])"
   ]
  },
  {
   "cell_type": "code",
   "execution_count": 45,
   "metadata": {},
   "outputs": [
    {
     "name": "stdout",
     "output_type": "stream",
     "text": [
      "e\n"
     ]
    }
   ],
   "source": [
    "print('Hello'[1])"
   ]
  },
  {
   "cell_type": "code",
   "execution_count": 47,
   "metadata": {},
   "outputs": [],
   "source": [
    "#print(name[50])#string index out of range"
   ]
  },
  {
   "cell_type": "markdown",
   "metadata": {},
   "source": [
    "##### String slicing "
   ]
  },
  {
   "cell_type": "code",
   "execution_count": 48,
   "metadata": {},
   "outputs": [],
   "source": [
    "name='amichoksi'"
   ]
  },
  {
   "cell_type": "code",
   "execution_count": 49,
   "metadata": {},
   "outputs": [
    {
     "name": "stdout",
     "output_type": "stream",
     "text": [
      "ami\n"
     ]
    }
   ],
   "source": [
    "#print all characters from 0 to 3-1\n",
    "print(name[0:3])#ami"
   ]
  },
  {
   "cell_type": "code",
   "execution_count": 50,
   "metadata": {},
   "outputs": [
    {
     "name": "stdout",
     "output_type": "stream",
     "text": [
      "ami\n"
     ]
    }
   ],
   "source": [
    "#print all characters before 3rd index\n",
    "print(name[:3])#ami"
   ]
  },
  {
   "cell_type": "code",
   "execution_count": 51,
   "metadata": {},
   "outputs": [
    {
     "name": "stdout",
     "output_type": "stream",
     "text": [
      "choksi\n"
     ]
    }
   ],
   "source": [
    "#print all characters after and including 3rd index\n",
    "print(name[3:])#choksi"
   ]
  },
  {
   "cell_type": "code",
   "execution_count": 52,
   "metadata": {},
   "outputs": [
    {
     "name": "stdout",
     "output_type": "stream",
     "text": [
      "amichoksi\n"
     ]
    }
   ],
   "source": [
    "#print all characters\n",
    "print(name[:])#amichoksi"
   ]
  },
  {
   "cell_type": "markdown",
   "metadata": {},
   "source": [
    "#####  more slicing"
   ]
  },
  {
   "cell_type": "code",
   "execution_count": 53,
   "metadata": {},
   "outputs": [
    {
     "name": "stdout",
     "output_type": "stream",
     "text": [
      "-4:-1 oks\n",
      "-4 oksi\n",
      "-4:8 oks\n",
      "-1:-4 \n",
      "1:-1 michoks\n",
      "-10,-1 Amichoks :\n",
      "-50,20 Amichoksi\n"
     ]
    }
   ],
   "source": [
    "name='Amichoksi' \n",
    "# 012345678\n",
    "#-987654321\n",
    "print(\"-4:-1\",name[-4:-1])# oks\n",
    "\n",
    "print(\"-4\",name[-4:])#oksi\n",
    "\n",
    "print(\"-4:8\",name[-4:8])#oks\n",
    "\n",
    "#if you give name[-4,4] it will not print anything as indexes should go in positive direction\n",
    "print(\"-1:-4\",name[-1:-4])#we have to go in positive direction, so here, it will not print anything\n",
    "\n",
    "print(\"1:-1\",name[1:-1])#michoks\n",
    "print(\"-10,-1\",name[-10:-1],\":\" )#Amichoks\n",
    "\n",
    "print(\"-50,20\",name[-50:20])#Amichoksi\n",
    "#When left index is very very less than the start index and right index is very very large compared to right index, we ignore, python returns full string"
   ]
  },
  {
   "cell_type": "code",
   "execution_count": 3,
   "metadata": {},
   "outputs": [
    {
     "name": "stdout",
     "output_type": "stream",
     "text": [
      "Hello\n",
      "and\n",
      "welcome\n",
      "to\n",
      "the\n",
      "world\n",
      "of\n",
      "computers\n"
     ]
    }
   ],
   "source": [
    "#pass String to funcion\n",
    "#print all words of a string\n",
    "def printWords(s):\n",
    "    words=s.split()\n",
    "    for i in words:\n",
    "        print(i)\n",
    "st=\"Hello and welcome to the world of computers\"\n",
    "printWords(st)\n",
    "#Output:\n",
    "#Hello\n",
    "#and\n",
    "#welcome\n",
    "#to\n",
    "#the\n",
    "#world\n",
    "#of\n",
    "#computers"
   ]
  },
  {
   "cell_type": "markdown",
   "metadata": {},
   "source": [
    "#### Tuples"
   ]
  },
  {
   "cell_type": "code",
   "execution_count": 56,
   "metadata": {},
   "outputs": [
    {
     "name": "stdout",
     "output_type": "stream",
     "text": [
      "intro to tuples\n",
      "ami choksi\n",
      "20\n",
      "('intro to tuples', 'ami choksi', 20)\n",
      "<class 'tuple'>\n",
      "()\n",
      "(1,)\n"
     ]
    }
   ],
   "source": [
    "t = (\"intro to tuples\", \"ami choksi\", 20)\n",
    "for i in range(0,3):\n",
    "    print(t[i])\n",
    "print(t)\n",
    "print(type(t))\n",
    "c=()#Empty tuple\n",
    "print(c)\n",
    "singleton = (1,)#singleton tuple, at the end ',' is must\n",
    "print(singleton)"
   ]
  },
  {
   "cell_type": "markdown",
   "metadata": {},
   "source": [
    "#### Nested Tuple"
   ]
  },
  {
   "cell_type": "code",
   "execution_count": 58,
   "metadata": {},
   "outputs": [
    {
     "name": "stdout",
     "output_type": "stream",
     "text": [
      "('Ishu', 20, ('Python', 'Dr.Ami Choksi', 20))\n",
      "course length 3\n",
      "student length 3\n",
      "Empty length 0\n",
      "(1,) 1\n"
     ]
    }
   ],
   "source": [
    "course = (\"Python\", \"Dr.Ami Choksi\", 20)\n",
    "student = (\"Ishu\", 20, course)\n",
    "print(student)\n",
    "#('Ishu', 20, ('Python', 'Dr.Ami Choksi', 20))\n",
    "\n",
    "#length of the Tuple\n",
    "print(\"course length\",len(course))#3\n",
    "print(\"student length\",len(student))#3\n",
    "empty=()\n",
    "print(\"Empty length\",len(empty))#0\n",
    "singleton=(1,)\n",
    "print(singleton, len(singleton))#1"
   ]
  },
  {
   "cell_type": "code",
   "execution_count": 60,
   "metadata": {},
   "outputs": [
    {
     "name": "stdout",
     "output_type": "stream",
     "text": [
      "Concat ('Py', 'ami', 20, 'Dm', 'ac', 30)\n",
      "multiply ('Dm', 'ac', 30, 'Dm', 'ac', 30)\n",
      "multiply ('Dm', 'ac', 30, 'Dm', 'ac', 30)\n"
     ]
    }
   ],
   "source": [
    "course1=(\"Py\",\"ami\",20)\n",
    "course2=(\"Dm\",\"ac\",30)\n",
    "print(\"Concat\",course1+course2)#('Py', 'ami', 20, 'Dm', 'ac', 30)\n",
    "print(\"multiply\",2*course2)#('Dm', 'ac', 30, 'Dm', 'ac', 30)\n",
    "print(\"multiply\",course2*2)"
   ]
  },
  {
   "cell_type": "markdown",
   "metadata": {},
   "source": [
    "##### Unpacking sequence"
   ]
  },
  {
   "cell_type": "code",
   "execution_count": 62,
   "metadata": {},
   "outputs": [
    {
     "name": "stdout",
     "output_type": "stream",
     "text": [
      "student :  ('ibhu', 10, ('Python', 'ami', 22))\n"
     ]
    }
   ],
   "source": [
    "course=(\"Python\",\"ami\",22)\n",
    "student=(\"ibhu\",10,course)\n",
    "print(\"student : \",student)"
   ]
  },
  {
   "cell_type": "code",
   "execution_count": 64,
   "metadata": {},
   "outputs": [
    {
     "name": "stdout",
     "output_type": "stream",
     "text": [
      "name :  ibhu\n",
      "roll :  10\n",
      "regcourse :  ('Python', 'ami', 22)\n"
     ]
    }
   ],
   "source": [
    "name, roll, regcourse=student\n",
    "\n",
    "print(\"name : \",name)\n",
    "print(\"roll : \",roll)\n",
    "print(\"regcourse : \",regcourse)"
   ]
  },
  {
   "cell_type": "code",
   "execution_count": 65,
   "metadata": {},
   "outputs": [
    {
     "name": "stdout",
     "output_type": "stream",
     "text": [
      "a\n",
      "c\n"
     ]
    }
   ],
   "source": [
    "x1,x2,x3,x4 = 'amic'\n",
    "print(x1)#a\n",
    "print(x4)#c\n",
    "\n",
    "#if we give x1,x2,x3,x4=\"ami\"\n",
    "#ValueError: not enough values to unpack (expected 4, got 3)\n",
    "\n",
    "#x1,x2=\"ami\"\n",
    "#too many values to unpack (expected 2)"
   ]
  },
  {
   "cell_type": "code",
   "execution_count": null,
   "metadata": {},
   "outputs": [],
   "source": [
    "(x,y) = (1,(2,4))[1]\n",
    "print(y)#4"
   ]
  },
  {
   "cell_type": "code",
   "execution_count": 68,
   "metadata": {},
   "outputs": [],
   "source": [
    "#(x,y) = (1,)\n",
    "#print(y)#ValueError: not enough values to unpack (expected 2, got 1)\n",
    "#cause \n",
    "#(1,(2,4))[1:] #Output ((2, 4),)\n",
    "#(x,y)=((2,4),)\n",
    "#y doesn't get any value"
   ]
  },
  {
   "cell_type": "code",
   "execution_count": 69,
   "metadata": {},
   "outputs": [
    {
     "name": "stdout",
     "output_type": "stream",
     "text": [
      "(2, 4)\n",
      "AK\n",
      "A\n"
     ]
    }
   ],
   "source": [
    "(x,y) = (1,(2,4))\n",
    "print(y)#(2,4)\n",
    "\n",
    "\n",
    "(x, y) = (\"Hello\",\"AK\")\n",
    "print(y)#AK\n",
    "\n",
    "\n",
    "(x, (y1, y2)) = (\"Hello\",\"AK\")\n",
    "print(y1)#A"
   ]
  },
  {
   "cell_type": "code",
   "execution_count": 5,
   "metadata": {},
   "outputs": [
    {
     "name": "stdout",
     "output_type": "stream",
     "text": [
      "1\n",
      "2\n",
      "3\n",
      "4\n",
      "5\n",
      "6\n"
     ]
    }
   ],
   "source": [
    "#Pass tuple to function\n",
    "def printTupleElements(t):\n",
    "    for i in t:\n",
    "        print(i)\n",
    "\n",
    "tp=(1,2,3,4,5,6)        \n",
    "printTupleElements(tp)\n",
    "#Output:\n",
    "#1\n",
    "#2\n",
    "#3\n",
    "#4\n",
    "#5\n",
    "#6"
   ]
  },
  {
   "cell_type": "code",
   "execution_count": 6,
   "metadata": {},
   "outputs": [
    {
     "name": "stdout",
     "output_type": "stream",
     "text": [
      "1\n",
      "2\n",
      "4\n",
      "5\n"
     ]
    }
   ],
   "source": [
    "#Pass two tuple to function\n",
    "def printTupleElements(t1,t2):\n",
    "    for i in t1:\n",
    "        print(i)\n",
    "    for i in t2:\n",
    "        print(i)\n",
    "\n",
    "printTupleElements((1,2),(4,5))\n",
    "#Output:\n",
    "#1\n",
    "#2\n",
    "#4\n",
    "#5"
   ]
  },
  {
   "cell_type": "markdown",
   "metadata": {},
   "source": [
    "#### List Operations "
   ]
  },
  {
   "cell_type": "code",
   "execution_count": 111,
   "metadata": {},
   "outputs": [],
   "source": [
    "# x and w are same: to see the difference between append and extend\n",
    "x=[1,2,3,4,\"five\"]\n",
    "w=[1,2,3,4,\"five\"]\n",
    "# y and z are same: to see the difference between append and extend\n",
    "y=[\"six\",\"seven\",\"eight\",9,10]\n",
    "z=[\"six\",\"seven\",\"eight\",9,10]"
   ]
  },
  {
   "cell_type": "code",
   "execution_count": 112,
   "metadata": {},
   "outputs": [
    {
     "name": "stdout",
     "output_type": "stream",
     "text": [
      "[1, 2, 3, 4, 'five', ['six', 'seven', 'eight', 9, 10]]\n"
     ]
    }
   ],
   "source": [
    "x.append(y)\n",
    "print(x)#[1, 2, 3, 4, 'five', ['six', 'seven', 'eight', 9, 10]]"
   ]
  },
  {
   "cell_type": "code",
   "execution_count": 113,
   "metadata": {},
   "outputs": [
    {
     "name": "stdout",
     "output_type": "stream",
     "text": [
      "[1, 2, 3, 4, 'five', 'six', 'seven', 'eight', 9, 10]\n"
     ]
    }
   ],
   "source": [
    "w.extend(y)\n",
    "print(w)#[1, 2, 3, 4, 'five', 'six', 'seven', 'eight', 9, 10]"
   ]
  },
  {
   "cell_type": "code",
   "execution_count": 114,
   "metadata": {},
   "outputs": [
    {
     "name": "stdout",
     "output_type": "stream",
     "text": [
      "['six', 'seven', 'eight', 9, 10, 'six', 'seven', 'eight', 9, 10]\n"
     ]
    }
   ],
   "source": [
    "y.extend(y)\n",
    "print(y)#['six', 'seven', 'eight', 9, 10, 'six', 'seven', 'eight', 9, 10]"
   ]
  },
  {
   "cell_type": "code",
   "execution_count": 117,
   "metadata": {},
   "outputs": [
    {
     "name": "stdout",
     "output_type": "stream",
     "text": [
      "None\n"
     ]
    }
   ],
   "source": [
    "# x.append will append to x but it doesn't return anything, so printing that \n",
    "#returns None\n",
    "x=[1,2,3,4,\"five\"]\n",
    "y=[\"six\",\"seven\",\"eight\",9,10]\n",
    "print(x.append(y))#None"
   ]
  },
  {
   "cell_type": "code",
   "execution_count": 13,
   "metadata": {},
   "outputs": [
    {
     "name": "stdout",
     "output_type": "stream",
     "text": [
      "pinku.tinku.chinku."
     ]
    }
   ],
   "source": [
    "#find the names from list whose last letter is ‘u’\n",
    "names=['pinku','tinku','chinku','tonny','sony']\n",
    "for i in names:\n",
    "\tif i[-1]=='u':\n",
    "\t\tprint(i,end=\".\")#pinku.tinku.chinku."
   ]
  },
  {
   "cell_type": "code",
   "execution_count": 2,
   "metadata": {},
   "outputs": [
    {
     "name": "stdout",
     "output_type": "stream",
     "text": [
      "['my', 'name', 'is', 'ami']\n",
      "mynameisami\n"
     ]
    }
   ],
   "source": [
    "#making a string out of list and string to list\n",
    "#list to string: join()\n",
    "l=['my','name','is','ami']\n",
    "print(l)#['my', 'name', 'is', 'ami']\n",
    "b=''.join(l)\n",
    "print(b)#'mynameisami'"
   ]
  },
  {
   "cell_type": "markdown",
   "metadata": {},
   "source": [
    "##### More list operations "
   ]
  },
  {
   "cell_type": "code",
   "execution_count": null,
   "metadata": {},
   "outputs": [],
   "source": [
    "x  = [1,2,3,4,\"five\"]"
   ]
  },
  {
   "cell_type": "code",
   "execution_count": null,
   "metadata": {},
   "outputs": [],
   "source": [
    "print(x[0])#1"
   ]
  },
  {
   "cell_type": "code",
   "execution_count": null,
   "metadata": {},
   "outputs": [],
   "source": [
    "print(x[4])#five"
   ]
  },
  {
   "cell_type": "code",
   "execution_count": null,
   "metadata": {},
   "outputs": [],
   "source": [
    "print(len(x))#5"
   ]
  },
  {
   "cell_type": "code",
   "execution_count": null,
   "metadata": {},
   "outputs": [],
   "source": [
    "print(x[-1])#five"
   ]
  },
  {
   "cell_type": "code",
   "execution_count": null,
   "metadata": {},
   "outputs": [],
   "source": [
    "print(x[-20:20])#[1, 2, 3, 4, 'five']"
   ]
  },
  {
   "cell_type": "code",
   "execution_count": null,
   "metadata": {},
   "outputs": [],
   "source": [
    "print(x[-20:4]) #[1, 2, 3, 4]"
   ]
  },
  {
   "cell_type": "code",
   "execution_count": null,
   "metadata": {},
   "outputs": [],
   "source": [
    "y=[\"six\",\"seven\",\"eight\",9,10]"
   ]
  },
  {
   "cell_type": "code",
   "execution_count": null,
   "metadata": {},
   "outputs": [],
   "source": [
    "z=x+y\n",
    "print(z)#[1, 2, 3, 4, 'five', 'six', 'seven', 'eight', 9, 10]"
   ]
  },
  {
   "cell_type": "code",
   "execution_count": null,
   "metadata": {},
   "outputs": [],
   "source": [
    "z=2*x\n",
    "print(z)#[1, 2, 3, 4, 'five', 1, 2, 3, 4, 'five']"
   ]
  },
  {
   "cell_type": "code",
   "execution_count": 119,
   "metadata": {},
   "outputs": [],
   "source": [
    "#x1,x2,x3,x4 = x#ValueError: too many values to unpack (expected 4)\n",
    "#x1,x2,x3,x4,x5 = x;"
   ]
  },
  {
   "cell_type": "code",
   "execution_count": 120,
   "metadata": {},
   "outputs": [
    {
     "name": "stdout",
     "output_type": "stream",
     "text": [
      "[5, 4, 3, 2, 1]\n"
     ]
    }
   ],
   "source": [
    "x=[5,4,3,2,1]\n",
    "print(x)#[5, 4, 3, 2, 1]"
   ]
  },
  {
   "cell_type": "code",
   "execution_count": 8,
   "metadata": {},
   "outputs": [
    {
     "name": "stdout",
     "output_type": "stream",
     "text": [
      "1\n",
      "2\n",
      "3\n",
      "4\n"
     ]
    }
   ],
   "source": [
    "#Pass Lists to a function\n",
    "def printList(ll1,ll2):\n",
    "    for i in ll1:\n",
    "        print(i)\n",
    "    for i in ll2:\n",
    "        print(i)\n",
    "\n",
    "printList([1,2],[3,4])  \n",
    "#Output:\n",
    "#1\n",
    "#2\n",
    "#3\n",
    "#4"
   ]
  },
  {
   "cell_type": "markdown",
   "metadata": {},
   "source": [
    "##### Mutable and Unmutable"
   ]
  },
  {
   "cell_type": "code",
   "execution_count": 3,
   "metadata": {},
   "outputs": [
    {
     "name": "stdout",
     "output_type": "stream",
     "text": [
      "games  :   (['badminton', 'table tennis', 'carrom'], ['football', 'cricket'])\n"
     ]
    }
   ],
   "source": [
    "indoor=['badminton','table tennis', 'carrom']\n",
    "outdoor=['football','cricket']\n",
    "games=(indoor, outdoor)\n",
    "print(\"games  :  \",games)\n",
    "#games  :  (['badminton', 'table tennis', 'carrom'], ['football', 'cricket'])"
   ]
  },
  {
   "cell_type": "code",
   "execution_count": 2,
   "metadata": {},
   "outputs": [
    {
     "name": "stdout",
     "output_type": "stream",
     "text": [
      "games[0] :  ['badminton', 'table tennis', 'carrom']\n"
     ]
    }
   ],
   "source": [
    "cards=['sol','hearts','freecell']\n",
    "print(\"games[0] : \",games[0])\n",
    "#games[0] :  ['badminton', 'table tennis', 'carrom']                \n",
    "#games[0] = cards# 'tuple' object does not support item assignment"
   ]
  },
  {
   "cell_type": "code",
   "execution_count": 4,
   "metadata": {},
   "outputs": [
    {
     "name": "stdout",
     "output_type": "stream",
     "text": [
      "(['badminton', 'table tennis', 'carrom'], ['football', 'cricket'], ['sol', 'hearts', 'freecell'])\n"
     ]
    }
   ],
   "source": [
    "games1=(indoor, outdoor, cards)\n",
    "print(games1)#(['badminton', 'table tennis', 'carrom'], ['football', 'cricket'], ['sol', 'hearts', 'freecell'])"
   ]
  },
  {
   "cell_type": "code",
   "execution_count": null,
   "metadata": {},
   "outputs": [],
   "source": [
    "games1=(['badminton', 'table tennis', 'carrom'], ['football', 'cricket'], ['sol', 'hearts', 'freecell'])\n",
    "print(games1[:2])\n",
    "#(['badminton', 'table tennis', 'carrom'], ['football', 'cricket'])"
   ]
  },
  {
   "cell_type": "code",
   "execution_count": 5,
   "metadata": {},
   "outputs": [
    {
     "name": "stdout",
     "output_type": "stream",
     "text": [
      "(['badminton', 'table tennis', 'carrom'], ['football', 'cricket'])\n",
      "games  (['badminton', 'table tennis', 'carrom'], ['football', 'cricket'])\n"
     ]
    }
   ],
   "source": [
    "indoor=['badminton','table tennis', 'carrom']\n",
    "outdoor=['football','cricket']\n",
    "games =(indoor, outdoor)\n",
    "\n",
    "print(\"games \"  , games)\n",
    "#games  (['badminton', 'table tennis', 'carrom'], ['football', 'cricket'])"
   ]
  },
  {
   "cell_type": "code",
   "execution_count": 6,
   "metadata": {},
   "outputs": [
    {
     "name": "stdout",
     "output_type": "stream",
     "text": [
      "False\n"
     ]
    }
   ],
   "source": [
    "#replaces outdoor[0]\n",
    "outdoor[0]='hockey'\n",
    "#(['badminton', 'table tennis', 'carrom'], ['hockey', 'cricket'])\n",
    "if games1[:2] == games:\n",
    "\tprint(\"True\")\n",
    "else:\n",
    "\tprint(\"False\")\n",
    "\n",
    "#False"
   ]
  },
  {
   "cell_type": "code",
   "execution_count": 7,
   "metadata": {},
   "outputs": [
    {
     "name": "stdout",
     "output_type": "stream",
     "text": [
      "True\n"
     ]
    }
   ],
   "source": [
    "#change to list will change tuple which reference it\n",
    "indoor=('badminton', 'table tennis', 'carrom')\n",
    "games=(['badminton', 'table tennis', 'carrom'], ['football', 'cricket'])\n",
    "if 'badminton' in indoor:\n",
    "\tprint(True)\n",
    "else:\n",
    "\tprint(False)\n",
    "#True\n",
    "#in if condition, indoor   is replaced with games, it returns False"
   ]
  },
  {
   "cell_type": "code",
   "execution_count": 8,
   "metadata": {},
   "outputs": [
    {
     "name": "stdout",
     "output_type": "stream",
     "text": [
      "['badminton', 'table tennis', 'carrom']\n",
      "['football', 'cricket']\n"
     ]
    }
   ],
   "source": [
    "#Iterate over list\n",
    "indoor=('badminton', 'table tennis', 'carrom')\n",
    "games=(['badminton', 'table tennis', 'carrom'], ['football', 'cricket'])\n",
    "for i in games:\n",
    "\tprint (i)"
   ]
  },
  {
   "cell_type": "code",
   "execution_count": 9,
   "metadata": {},
   "outputs": [
    {
     "name": "stdout",
     "output_type": "stream",
     "text": [
      "([1, 2, 3, 4], [1, 2, 3])\n"
     ]
    }
   ],
   "source": [
    "#append()\n",
    "v1 = [1,2,3]\n",
    "t1 = (v1,v1[:])\n",
    "v1.append(4)\n",
    "print (t1)#([1,2,3,4],[1,2,3])"
   ]
  },
  {
   "cell_type": "markdown",
   "metadata": {},
   "source": [
    "#### List Comprehension and Generator "
   ]
  },
  {
   "cell_type": "code",
   "execution_count": 19,
   "metadata": {},
   "outputs": [
    {
     "name": "stdout",
     "output_type": "stream",
     "text": [
      "[1, 2, 3, 4, 5, 6]\n",
      "[3, 4, 5, 6, 7, 8]\n"
     ]
    }
   ],
   "source": [
    "#Simple way of creating list\n",
    "old_list=[1,2,3,4,5,6]\n",
    "new_list = []\n",
    "for i in old_list:\n",
    "\tnew_list.append(i+2)\n",
    "print(new_list)#[3, 4, 5, 6, 7, 8]"
   ]
  },
  {
   "cell_type": "code",
   "execution_count": 20,
   "metadata": {},
   "outputs": [
    {
     "name": "stdout",
     "output_type": "stream",
     "text": [
      "[3, 4, 5, 6, 7, 8]\n"
     ]
    }
   ],
   "source": [
    "#List comprehension of above example\n",
    "new_list=[x+2 for x in old_list]\n",
    "print(new_list)#[3, 4, 5, 6, 7, 8]"
   ]
  },
  {
   "cell_type": "code",
   "execution_count": 13,
   "metadata": {},
   "outputs": [
    {
     "name": "stdout",
     "output_type": "stream",
     "text": [
      "[1, 4, 9, 16, 25, 36, 49, 64, 81, 100]\n"
     ]
    }
   ],
   "source": [
    "y=[x*x for x in range(1,11)]\n",
    "print(y)\n",
    "#[1, 4, 9, 16, 25, 36, 49, 64, 81, 100]"
   ]
  },
  {
   "cell_type": "code",
   "execution_count": 14,
   "metadata": {},
   "outputs": [
    {
     "name": "stdout",
     "output_type": "stream",
     "text": [
      "[25, 9, 5]\n"
     ]
    }
   ],
   "source": [
    "nums=[-1,25,9,-30,5]\n",
    "pos = [x for x in nums if x>0]\n",
    "print(pos)#[25, 9, 5]"
   ]
  },
  {
   "cell_type": "code",
   "execution_count": 15,
   "metadata": {},
   "outputs": [
    {
     "name": "stdout",
     "output_type": "stream",
     "text": [
      "[-1, -30]\n"
     ]
    }
   ],
   "source": [
    "neg = [x for x in nums if x<0]\n",
    "print(neg)#[-1, -30]"
   ]
  },
  {
   "cell_type": "code",
   "execution_count": 16,
   "metadata": {},
   "outputs": [
    {
     "name": "stdout",
     "output_type": "stream",
     "text": [
      "[(-1, 1), (25, 25), (9, 9), (-30, 30), (5, 5)]\n"
     ]
    }
   ],
   "source": [
    "absp = [(x, abs(x)) for x in nums]\n",
    "print(absp)\n",
    "#[(-1, 1), (25, 25), (9, 9), (-30, 30), (5, 5)]"
   ]
  },
  {
   "cell_type": "code",
   "execution_count": 13,
   "metadata": {},
   "outputs": [
    {
     "name": "stdout",
     "output_type": "stream",
     "text": [
      "[(2, 4), (3, 9)]\n"
     ]
    }
   ],
   "source": [
    "sqlist=[(x,y) for x in [1,2,3] for y in [12,9,27,4,50] if x*x ==y]\n",
    "print(sqlist)#[(2, 4), (3, 9)]"
   ]
  },
  {
   "cell_type": "code",
   "execution_count": 19,
   "metadata": {},
   "outputs": [
    {
     "name": "stdout",
     "output_type": "stream",
     "text": [
      "4 6 8 "
     ]
    }
   ],
   "source": [
    "for i in range(4, 10, 2):\n",
    "\tprint(i, end=\" \") #4 6 8"
   ]
  },
  {
   "cell_type": "code",
   "execution_count": 20,
   "metadata": {},
   "outputs": [
    {
     "name": "stdout",
     "output_type": "stream",
     "text": [
      "[4, 16]\n"
     ]
    }
   ],
   "source": [
    "z = [x*x for x in range(1,5) if (x%2 == 0)]\n",
    "print(z)#[4, 16]"
   ]
  },
  {
   "cell_type": "code",
   "execution_count": 21,
   "metadata": {},
   "outputs": [
    {
     "name": "stdout",
     "output_type": "stream",
     "text": [
      "[4, 16]\n"
     ]
    }
   ],
   "source": [
    "#Comprehension with %\n",
    "z = [x*x for x in range(1,5) if (x%2 == 0)]\n",
    "print(z)#[4, 16]"
   ]
  },
  {
   "cell_type": "code",
   "execution_count": 22,
   "metadata": {},
   "outputs": [
    {
     "name": "stdout",
     "output_type": "stream",
     "text": [
      "[3, 6, 9, 2, 4, 6]\n"
     ]
    }
   ],
   "source": [
    "#Comprehension with range\n",
    "z = [x*y for y in range(3, 1, -1) for x in range(1,4) ]\n",
    "print(z)\n",
    "#[3,6,9,2,4,6]"
   ]
  },
  {
   "cell_type": "markdown",
   "metadata": {},
   "source": [
    "##### Generators "
   ]
  },
  {
   "cell_type": "code",
   "execution_count": 11,
   "metadata": {},
   "outputs": [
    {
     "name": "stdout",
     "output_type": "stream",
     "text": [
      "[0, 2, 4, 6, 8, 10]\n"
     ]
    }
   ],
   "source": [
    "#List Comprehension Example\n",
    "list_comprehension = [i for i in range(11) if i % 2 == 0] \n",
    "print(list_comprehension)\n",
    "#[0, 2, 4, 6, 8, 10]"
   ]
  },
  {
   "cell_type": "code",
   "execution_count": 10,
   "metadata": {},
   "outputs": [
    {
     "name": "stdout",
     "output_type": "stream",
     "text": [
      "<generator object <genexpr> at 0x0000000004FC41B0>\n"
     ]
    }
   ],
   "source": [
    "# Generator Expression \n",
    "generator_expression = (i for i in range(11) if i % 2 == 0) \n",
    "print(generator_expression) \n",
    "#<generator object <genexpr> at 0x0000000004FC41B0>"
   ]
  },
  {
   "cell_type": "code",
   "execution_count": 12,
   "metadata": {},
   "outputs": [
    {
     "name": "stdout",
     "output_type": "stream",
     "text": [
      "0 2 4 6 8 10 "
     ]
    }
   ],
   "source": [
    "#Iterate over Generator\n",
    "for i in generator_expression: \n",
    "\tprint(i, end=\" \")#0 2 4 6 8 10"
   ]
  },
  {
   "cell_type": "code",
   "execution_count": 23,
   "metadata": {},
   "outputs": [
    {
     "name": "stdout",
     "output_type": "stream",
     "text": [
      "x =  87624\n",
      "y =  120\n"
     ]
    }
   ],
   "source": [
    "#Get size of list comprehension and generator\n",
    "from sys import getsizeof \n",
    "  \n",
    "comp = [i for i in range(10000)] \n",
    "gen = (i for i in range(10000)) \n",
    "  \n",
    "#gives size for list comprehension \n",
    "x = getsizeof(comp)  \n",
    "print(\"x = \", x) \n",
    "  \n",
    "#gives size for generator expression \n",
    "y = getsizeof(gen)  \n",
    "print(\"y = \", y) \n",
    "#x =  87624\n",
    "#y =  120"
   ]
  },
  {
   "cell_type": "markdown",
   "metadata": {},
   "source": [
    "#### Sets "
   ]
  },
  {
   "cell_type": "code",
   "execution_count": 14,
   "metadata": {},
   "outputs": [
    {
     "name": "stdout",
     "output_type": "stream",
     "text": [
      "{1, 2, 3, 4}\n"
     ]
    }
   ],
   "source": [
    "#set is defined as \n",
    "s={1,2,3,3,4}\n",
    "#it ONLY considers unique elements\n",
    "print(s)#{1, 2, 3, 4}"
   ]
  },
  {
   "cell_type": "code",
   "execution_count": 1,
   "metadata": {
    "scrolled": false
   },
   "outputs": [
    {
     "name": "stdout",
     "output_type": "stream",
     "text": [
      "fruits:  {'orange', 'pear', 'banana', 'apple'}\n",
      "Type:  <class 'set'>\n",
      "True\n",
      "False\n"
     ]
    }
   ],
   "source": [
    "#Use of in Operator\n",
    "basket=['apple','banana','apple','pear','orange','banana']       \n",
    "fruits=set(basket)\n",
    "print(\"fruits: \",fruits)#fruits:  {'orange', 'pear', 'banana', 'apple'}\n",
    "print(\"Type: \",type(fruits))#Type:  <class 'set'>\n",
    "\n",
    "if 'apple' in fruits:\n",
    "\tprint(\"True\")\n",
    "else:\n",
    "\tprint(\"False\")\n",
    "\n",
    "\n",
    "if 'mango' in fruits:\n",
    "\tprint(\"True\")\n",
    "else:\n",
    "\tprint(\"False\")"
   ]
  },
  {
   "cell_type": "markdown",
   "metadata": {},
   "source": [
    "##### Set Operations "
   ]
  },
  {
   "cell_type": "code",
   "execution_count": null,
   "metadata": {},
   "outputs": [],
   "source": [
    "A=set('acads')\n",
    "B=set('institute')\n",
    "print(\"A: \",A)\n",
    "print(\"B: \",B)"
   ]
  },
  {
   "cell_type": "code",
   "execution_count": null,
   "metadata": {},
   "outputs": [],
   "source": [
    "print(\"A-B:\",A-B)#{'a', 'd', 'c'}"
   ]
  },
  {
   "cell_type": "code",
   "execution_count": null,
   "metadata": {},
   "outputs": [],
   "source": [
    "print(\"AUB : \", A|B)#{'i', 't', 's', 'u', 'c', 'a', 'n', 'e', 'd'}"
   ]
  },
  {
   "cell_type": "code",
   "execution_count": null,
   "metadata": {},
   "outputs": [],
   "source": [
    "print(\"A&B\",A&B)#{'s'}"
   ]
  },
  {
   "cell_type": "code",
   "execution_count": 2,
   "metadata": {},
   "outputs": [
    {
     "name": "stdout",
     "output_type": "stream",
     "text": [
      "A:  {'a', 'd', 's', 'c'}\n",
      "B:  {'i', 't', 's', 'u', 'n', 'e'}\n",
      "A-B: {'a', 'd', 'c'}\n",
      "AUB :  {'i', 't', 's', 'u', 'c', 'a', 'n', 'e', 'd'}\n",
      "A&B {'s'}\n",
      "A^B:  {'i', 'u', 'a', 'n', 'e', 'd', 't', 'c'}\n"
     ]
    }
   ],
   "source": [
    "#symmetric difference\n",
    "print(\"A^B: \", A^B )#AUB - A&B\n",
    "#A^B:  {'i', 'u', 'a', 'n', 'e', 'd', 't', 'c'}"
   ]
  },
  {
   "cell_type": "code",
   "execution_count": 5,
   "metadata": {
    "scrolled": true
   },
   "outputs": [
    {
     "name": "stdout",
     "output_type": "stream",
     "text": [
      "[1, 2, 3, 5, 3, 2, 7]\n",
      "After removing duplicates [1, 2, 3, 5, 7]\n"
     ]
    }
   ],
   "source": [
    "#Duplicate removal from a list\n",
    "list1 = [1,2,3,5,3,2,7]\n",
    "print(list1)#[1,2,3,5,3,2,7]\n",
    "s=set(list1)\n",
    "list1=list(s)\n",
    "print(\"After removing duplicates\",list1)#[1, 2, 3, 5, 7]"
   ]
  },
  {
   "cell_type": "code",
   "execution_count": 6,
   "metadata": {},
   "outputs": [
    {
     "name": "stdout",
     "output_type": "stream",
     "text": [
      "False\n"
     ]
    }
   ],
   "source": [
    "#Special Cases\n",
    "snacks = set(['burger', 'fries', 'pizza' , 'fries', 'toast', 'peanuts', 'fries', 'pizza'])\n",
    "print(('fries' in snacks) > ('pizza' in snacks))#False"
   ]
  },
  {
   "cell_type": "markdown",
   "metadata": {},
   "source": [
    "##### explanation of above example"
   ]
  },
  {
   "cell_type": "code",
   "execution_count": 7,
   "metadata": {},
   "outputs": [
    {
     "name": "stdout",
     "output_type": "stream",
     "text": [
      "True\n"
     ]
    }
   ],
   "source": [
    "print('fries' in snacks)#True"
   ]
  },
  {
   "cell_type": "code",
   "execution_count": 8,
   "metadata": {},
   "outputs": [
    {
     "name": "stdout",
     "output_type": "stream",
     "text": [
      "True\n"
     ]
    }
   ],
   "source": [
    "print('pizza' in snacks)#True"
   ]
  },
  {
   "cell_type": "code",
   "execution_count": 9,
   "metadata": {},
   "outputs": [
    {
     "name": "stdout",
     "output_type": "stream",
     "text": [
      "False\n"
     ]
    }
   ],
   "source": [
    "print(True>True)#False"
   ]
  },
  {
   "cell_type": "code",
   "execution_count": null,
   "metadata": {},
   "outputs": [],
   "source": [
    "#Difference of set of strings"
   ]
  },
  {
   "cell_type": "code",
   "execution_count": 10,
   "metadata": {},
   "outputs": [
    {
     "name": "stdout",
     "output_type": "stream",
     "text": [
      "{'toast', 'peanuts', 'pizza'}\n"
     ]
    }
   ],
   "source": [
    "s1 = set(['burger', 'fries', 'pizza' , 'fries', 'toast', 'peanuts', 'fries', 'pizza'])\n",
    "s2 = set(['burger', 'fries', 'burger', 'fries', 'omlette'])\n",
    "print(s1-s2)#{'toast', 'peanuts', 'pizza'}"
   ]
  },
  {
   "cell_type": "code",
   "execution_count": 9,
   "metadata": {},
   "outputs": [
    {
     "name": "stdout",
     "output_type": "stream",
     "text": [
      "1\n",
      "2\n",
      "3\n"
     ]
    }
   ],
   "source": [
    "#Pass set to a function\n",
    "def printSet(s):\n",
    "    for i in s:\n",
    "        print(i)\n",
    "\n",
    "printSet({1,2,3})    \n",
    "#Output:\n",
    "#1\n",
    "#2\n",
    "#3"
   ]
  },
  {
   "cell_type": "markdown",
   "metadata": {},
   "source": [
    "#### Dictionary "
   ]
  },
  {
   "cell_type": "code",
   "execution_count": 93,
   "metadata": {},
   "outputs": [
    {
     "name": "stdout",
     "output_type": "stream",
     "text": [
      "Dict :  {'name': 'abhay', 'designation': 'Associate Prof', 'institute': 'ckpcet'}\n"
     ]
    }
   ],
   "source": [
    "#Get Keys and Values lists of dictionary\n",
    "dict1 = {'name':'ami','designation':'Associate Prof', 'institute':'ckpcet', 'name':'abhay'}\n",
    "print(\"Dict : \",dict1)\n",
    "#Dict :  {'name': 'abhay', 'designation': 'Associate Prof', 'institute': 'ckpcet'}"
   ]
  },
  {
   "cell_type": "code",
   "execution_count": 19,
   "metadata": {},
   "outputs": [
    {
     "name": "stdout",
     "output_type": "stream",
     "text": [
      "Dict :  {'designation': 'Associate Prof', 'institute': 'ckpcet'}\n",
      "abhay\n",
      "dict_keys(['name', 'designation', 'institute'])\n",
      "dict_values(['abhay', 'Associate Prof', 'ckpcet'])\n"
     ]
    }
   ],
   "source": [
    "#Get Keys and Values lists of dictionary\n",
    "dict1 = {'name':'ami','designation':'Associate Prof', 'institute':'ckpcet', 'name':'abhay'}\n",
    "print(\"Dict : \",dict)\n",
    "\n",
    "print(dict1['name'])#abhay\n",
    "print(dict1.keys())#dict_keys(['name', 'designation', 'institute'])\n",
    "print(dict1.values())#dict_values(['abhay', 'Associate Prof', 'ckpcet'])"
   ]
  },
  {
   "cell_type": "code",
   "execution_count": 16,
   "metadata": {},
   "outputs": [
    {
     "name": "stdout",
     "output_type": "stream",
     "text": [
      "{}\n",
      "<class 'dict'>\n"
     ]
    }
   ],
   "source": [
    "#empty dictionary creation\n",
    "dict1={}\n",
    "print(dict1)#{}\n",
    "print(type(dict1))#<class 'dict'>"
   ]
  },
  {
   "cell_type": "markdown",
   "metadata": {},
   "source": [
    "##### Dictionary operations "
   ]
  },
  {
   "cell_type": "code",
   "execution_count": null,
   "metadata": {},
   "outputs": [],
   "source": [
    "dict1 = {'name':'ami','designation':'Associate Prof', 'institute':'ckpcet', 'name':'abhay'}"
   ]
  },
  {
   "cell_type": "code",
   "execution_count": null,
   "metadata": {},
   "outputs": [],
   "source": [
    "#length\n",
    "print(\"len : \", len(dict1))#3"
   ]
  },
  {
   "cell_type": "code",
   "execution_count": null,
   "metadata": {},
   "outputs": [],
   "source": [
    "#keys\n",
    "print(\"keys: \", dict1.keys())#keys:  dict1_keys(['name', 'designation', 'institute'])"
   ]
  },
  {
   "cell_type": "code",
   "execution_count": null,
   "metadata": {},
   "outputs": [],
   "source": [
    "#values\n",
    "print(\"values:\",dict1.values())#values: dict1_values(['abhay', 'Associate Prof', 'ckpcet'])"
   ]
  },
  {
   "cell_type": "code",
   "execution_count": null,
   "metadata": {},
   "outputs": [],
   "source": [
    "#key available\n",
    "print('name' in dict1)#True\n",
    "print(\"key available:\",dict1.get('nam','ruchi'))#ruchi\n",
    "#if key is not available it throws exception, to solve it with get method, \n",
    "#default value is given"
   ]
  },
  {
   "cell_type": "code",
   "execution_count": 95,
   "metadata": {},
   "outputs": [
    {
     "name": "stdout",
     "output_type": "stream",
     "text": [
      "key not available: abhay\n",
      "chamcham\n",
      "dict1: {'designation': 'Associate Prof', 'institute': 'ckpcet'}\n"
     ]
    }
   ],
   "source": [
    "#key not available\n",
    "print(\"key not available:\",dict1.get('name','ruchi'))#abhay\n",
    "dict1['name']='chamcham'\n",
    "print(dict1['name'])#chamcham\n",
    "del dict1['name']\n",
    "print(\"dict1:\",dict1)#dict1: {'designation': 'Associate Prof', 'institute': 'ckpcet'}"
   ]
  },
  {
   "cell_type": "code",
   "execution_count": 94,
   "metadata": {},
   "outputs": [
    {
     "name": "stdout",
     "output_type": "stream",
     "text": [
      "Key :  name  Value :  abhay\n",
      "Key :  designation  Value :  Associate Prof\n",
      "Key :  institute  Value :  ckpcet\n"
     ]
    }
   ],
   "source": [
    "#iterate dictionary\n",
    "for i in dict1:\n",
    "\tprint(\"Key : \", i,\" Value : \",dict1[i])"
   ]
  },
  {
   "cell_type": "code",
   "execution_count": 22,
   "metadata": {},
   "outputs": [],
   "source": [
    "#del dict required\n",
    "del dict"
   ]
  },
  {
   "cell_type": "code",
   "execution_count": 23,
   "metadata": {},
   "outputs": [
    {
     "name": "stdout",
     "output_type": "stream",
     "text": [
      "{'mum': 'bom', 'chen': 'maa'}\n",
      "{'name': 'bob smith', 'age': 42, 'pay': '10000', 'job': 'dev'}\n"
     ]
    }
   ],
   "source": [
    "#if the code gives error of \"TypeError: 'dict' object is not callable\", do \n",
    "#del dict first then it works fine\n",
    "airport=dict([('mum','bom'),('chen','maa')])\n",
    "print(airport)#{'mum': 'bom', 'chen': 'maa'}\n",
    "\n",
    "bob=dict(name='bob smith',age=42,pay='10000',job='dev')\n",
    "print(bob)#{'name': 'bob smith', 'age': 42, 'pay': '10000', 'job': 'dev'}"
   ]
  },
  {
   "cell_type": "code",
   "execution_count": 13,
   "metadata": {},
   "outputs": [
    {
     "name": "stdout",
     "output_type": "stream",
     "text": [
      "[1, 2, 3, 4, 5, 6]\n",
      "[2, 12, 18, 24, 56, 323]\n"
     ]
    }
   ],
   "source": [
    "#sorting dictinary \n",
    "key_value ={}     \n",
    "key_value[2] = 56       \n",
    "key_value[1] = 2 \n",
    "key_value[5] = 12 \n",
    "key_value[4] = 24\n",
    "key_value[6] = 18      \n",
    "key_value[3] = 323\n",
    "#sorting dictinary with keys\n",
    "print(sorted (key_value.keys()))#[1, 2, 3, 4, 5, 6]\n",
    "#sorting dictinary with values\n",
    "print(sorted(key_value.values()))#[2, 12, 18, 24, 56, 323]"
   ]
  },
  {
   "cell_type": "code",
   "execution_count": 12,
   "metadata": {},
   "outputs": [
    {
     "name": "stdout",
     "output_type": "stream",
     "text": [
      "1 : 11\n",
      "2 : 22\n",
      "3 : 33\n"
     ]
    }
   ],
   "source": [
    "#Pass dictionary to a function\n",
    "def printDictionary(dc):\n",
    "    for i in dc.keys():\n",
    "        print(i,\":\",dc[i])\n",
    "\n",
    "dct={1:11,2:22,3:33}        \n",
    "printDictionary(dct)     \n",
    "#Output:\n",
    "#1 : 11\n",
    "#2 : 22\n",
    "#3 : 33"
   ]
  },
  {
   "cell_type": "markdown",
   "metadata": {},
   "source": [
    "#### Higher Order Functions"
   ]
  },
  {
   "cell_type": "code",
   "execution_count": 35,
   "metadata": {},
   "outputs": [
    {
     "name": "stdout",
     "output_type": "stream",
     "text": [
      "sum:  55\n",
      "square:  385\n",
      "cube:  3025\n"
     ]
    }
   ],
   "source": [
    "#Pass Function as Argument}\n",
    "def summation(n,f):\n",
    "\tsum=0\n",
    "\tfor i in range(1,n+1):\n",
    "\t\tsum=sum+f(i)\n",
    "\treturn sum\n",
    "\n",
    "def identity(x):\n",
    "\treturn x\n",
    "\n",
    "def square(x):\n",
    "\treturn x*x\n",
    "\n",
    "def cube(x):\n",
    "\treturn x**3\n",
    "\n",
    "print(\"sum: \" ,summation(10,identity))#sum:  55\n",
    "print(\"square: \", summation(10,square ))#square:  385\n",
    "print(\"cube: \", summation(10, cube))#3025"
   ]
  },
  {
   "cell_type": "code",
   "execution_count": 42,
   "metadata": {},
   "outputs": [
    {
     "name": "stdout",
     "output_type": "stream",
     "text": [
      "55\n",
      "385\n",
      "3025\n"
     ]
    }
   ],
   "source": [
    "#Lambda function\n",
    "def summation(n,f):\n",
    "\tsum=0\n",
    "\tfor i in range(1,n+1):\n",
    "\t\tsum=sum+f(i)\n",
    "\treturn sum\n",
    "\n",
    "print(summation(10,lambda x:x))#55\n",
    "print(summation(10,lambda x:x*x))#385\n",
    "print(summation(10,lambda x:x*x*x))#3025"
   ]
  },
  {
   "cell_type": "markdown",
   "metadata": {},
   "source": [
    "#### Special cases "
   ]
  },
  {
   "cell_type": "code",
   "execution_count": 43,
   "metadata": {},
   "outputs": [
    {
     "name": "stdout",
     "output_type": "stream",
     "text": [
      "2%4%6%"
     ]
    }
   ],
   "source": [
    "def printapp(f, xs):\n",
    "    for i in xs:\n",
    "        print(f(i), end='%')\n",
    "\n",
    "def double(x):\n",
    "    return x+x\n",
    "\n",
    "printapp(double, [1,2,3])#2%4%6%"
   ]
  },
  {
   "cell_type": "code",
   "execution_count": 44,
   "metadata": {},
   "outputs": [
    {
     "name": "stdout",
     "output_type": "stream",
     "text": [
      "ssttrr"
     ]
    }
   ],
   "source": [
    "def printapp(f, xs):\n",
    "\tfor i in xs:\n",
    "\t\tprint(f(i), end='')\n",
    "\n",
    "printapp(lambda x: x+x, \"str\")#ssttrr"
   ]
  },
  {
   "cell_type": "code",
   "execution_count": 96,
   "metadata": {},
   "outputs": [
    {
     "name": "stdout",
     "output_type": "stream",
     "text": [
      "<function <lambda> at 0x00000000081D0950>\n"
     ]
    }
   ],
   "source": [
    "w = (lambda xs, ys : list (x + y for x in xs for y in ys)) ((1 ,2), (9, 11))\n",
    "\n",
    "print (w)#[10, 12, 11, 13]"
   ]
  },
  {
   "cell_type": "code",
   "execution_count": 46,
   "metadata": {},
   "outputs": [
    {
     "name": "stdout",
     "output_type": "stream",
     "text": [
      "(1, 2, 1, 2)(3, 4, 3, 4)"
     ]
    }
   ],
   "source": [
    "def printapp(f, xs):\n",
    "\tfor i in xs:\n",
    "\t\tprint(f(i), end='')\n",
    "\n",
    "printapp(lambda x: x+x, [(1,2), (3,4)])\n",
    "#(1, 2, 1, 2)(3, 4, 3, 4)"
   ]
  },
  {
   "cell_type": "code",
   "execution_count": 47,
   "metadata": {
    "scrolled": true
   },
   "outputs": [
    {
     "name": "stdout",
     "output_type": "stream",
     "text": [
      "2%4%6%"
     ]
    }
   ],
   "source": [
    "def printapp(f, xs):\n",
    "\tfor i in xs:\n",
    "\t\tprint(f(i), end='%')\n",
    "\n",
    "def double(x):\n",
    "\treturn x+x\n",
    "printapp(double, {1:1, 2:4, 3:9})#2%4%6%"
   ]
  },
  {
   "cell_type": "code",
   "execution_count": 49,
   "metadata": {},
   "outputs": [
    {
     "name": "stdout",
     "output_type": "stream",
     "text": [
      "n= 100\n",
      "2 3 5 7 11 13 17 19 23 29 31 37 41 43 47 53 59 61 67 71 73 79 83 89 97 "
     ]
    }
   ],
   "source": [
    "def sieve(n):\n",
    "\tglobal primes\n",
    "\tprimes=[True]*(n+1)\n",
    "\t#print(primes)\n",
    "\tprimes[0], primes[1]=False, False; #0 & 1 are treated composite\n",
    "\n",
    "\tfor j in range(2, n+1):\n",
    "\t\tif  primes[j]==False:\n",
    "\t\t\tcontinue\n",
    "\t\tfor i in range(2*j, n+1, j):\n",
    "\t\t\tprimes[i] = False\n",
    "\n",
    "global primes\n",
    "n = int(input('n= '))\n",
    "\n",
    "sieve(n)\n",
    "for i in range(2, n+1):\n",
    "\tif primes[i]:\n",
    "\t\tprint(i, end=' ')"
   ]
  },
  {
   "cell_type": "markdown",
   "metadata": {},
   "source": [
    "#### File I/O "
   ]
  },
  {
   "cell_type": "code",
   "execution_count": 51,
   "metadata": {},
   "outputs": [],
   "source": [
    "#File IO write\n",
    "#open(filename, mode)\n",
    "test=open(\"test.txt\",\"w\")\n",
    "test.writelines(\"hello and welcome to the world of computers\")\n",
    "test.write(\"\\nhello friends\")\n",
    "test.write(\"\\nRushi, ishu\")\n",
    "test.close()\n",
    "\n",
    "'''Content of test.txt\n",
    "hello and welcome to the world of computers\n",
    "hello friends\n",
    "Rushi, ishu\n",
    "'''"
   ]
  },
  {
   "cell_type": "code",
   "execution_count": 53,
   "metadata": {},
   "outputs": [
    {
     "name": "stdout",
     "output_type": "stream",
     "text": [
      "hello and welcome to the world of computers\n",
      "hello friends\n",
      "Rushi, ishu\n",
      "test Obj <_io.TextIOWrapper name='test.txt' mode='r' encoding='cp1252'>\n"
     ]
    }
   ],
   "source": [
    "#File IO read\n",
    "test=open(\"test.txt\",\"r\")\n",
    "for line in test:\n",
    "    print(line,end='')\n",
    "test.close()\n",
    "print(\"\\ntest Obj\",test)\n"
   ]
  },
  {
   "cell_type": "code",
   "execution_count": 60,
   "metadata": {},
   "outputs": [
    {
     "name": "stdout",
     "output_type": "stream",
     "text": [
      "['stefi', 'martina'] \n",
      " ['India', 'England']\n"
     ]
    }
   ],
   "source": [
    "#Sequence Operations on Content of File\n",
    "fn=open('tennisPlayers.txt','r')\n",
    "\n",
    "pn, pc = [], []\n",
    "for i in fn:\n",
    "    pn.append(i[:-1])#ignore \\n\n",
    "fn.close()\n",
    "\n",
    "fc = open('tennisCountries.txt','r')\n",
    "for i in fc:\n",
    "    pc.append(i[:-1])\n",
    "fc.close()\n",
    "print(pn,'\\n',pc)\n",
    "'''\n",
    "Output:\n",
    "['stefi', 'martina'] \n",
    " ['India', 'England']\n",
    "'''"
   ]
  },
  {
   "cell_type": "code",
   "execution_count": 61,
   "metadata": {
    "scrolled": true
   },
   "outputs": [
    {
     "name": "stdout",
     "output_type": "stream",
     "text": [
      "['stefi', 'martina'] \n",
      " ['India', 'England']\n",
      "len 2\n",
      "{'stefi': 'India', 'martina': 'England'}\n"
     ]
    }
   ],
   "source": [
    "#Making Dictionary out of Files Contents\n",
    "fn=open('tennisPlayers.txt','r')\n",
    "\n",
    "\n",
    "pn, pc = [], []\n",
    "for i in fn:\n",
    "\tpn.append(i[:-1])#ignore \\n\n",
    "fn.close()\n",
    "\n",
    "fc = open('tennisCountries.txt','r')\n",
    "for i in fc:\n",
    "\tpc.append(i[:-1])\n",
    "fc.close()\n",
    "print(pn,'\\n',pc)\n",
    "\n",
    "\n",
    "print(\"len\",len(pc))\n",
    "nameCountry = []\n",
    "for i in range(len(pc)):\n",
    "\tnameCountry.append((pn[i],pc[i]))\n",
    "n2c = dict(nameCountry)\n",
    "print(n2c)\n",
    "'''\n",
    "Output:\n",
    "['stefi', 'martina'] \n",
    " ['India', 'England']\n",
    "len 2\n",
    "{'stefi': 'India', 'martina': 'England'}\n",
    "'''"
   ]
  },
  {
   "cell_type": "code",
   "execution_count": null,
   "metadata": {},
   "outputs": [],
   "source": [
    "#Content of seek1.txt\n",
    "'''\n",
    "first line\n",
    "second line\n",
    "third line\n",
    "fourth line\n",
    "fifth line\n",
    "'''"
   ]
  },
  {
   "cell_type": "code",
   "execution_count": 68,
   "metadata": {
    "scrolled": true
   },
   "outputs": [
    {
     "name": "stdout",
     "output_type": "stream",
     "text": [
      "t line\n",
      "second line\n",
      "third line\n",
      "fourth line\n",
      "fifth line"
     ]
    }
   ],
   "source": [
    "# seek operation\n",
    "f = open(\"seek1.txt\", \"r\")\n",
    "\n",
    "f.seek(4)\n",
    "for line in f:\n",
    "    print(line,end='')\n",
    "f.close()\n",
    "'''\n",
    "Output:\n",
    "t line\n",
    "second line\n",
    "third line\n",
    "fourth line\n",
    "fifth line\n",
    "'''"
   ]
  },
  {
   "cell_type": "code",
   "execution_count": 69,
   "metadata": {},
   "outputs": [],
   "source": [
    "#Append operation\n",
    "fo = open('seek1.txt', 'a')\n",
    "\n",
    "# Append 'hello' at the end of file\n",
    "fo.write('hello')\n",
    "\n",
    "# Close the file\n",
    "fo.close()\n",
    "'''\n",
    "Contents of seek1.txt after append operation\n",
    "first line\n",
    "second line\n",
    "third line\n",
    "fourth line\n",
    "fifth linehello\n",
    "'''"
   ]
  },
  {
   "cell_type": "markdown",
   "metadata": {},
   "source": [
    "#### Exceptions "
   ]
  },
  {
   "cell_type": "code",
   "execution_count": 71,
   "metadata": {},
   "outputs": [
    {
     "name": "stdout",
     "output_type": "stream",
     "text": [
      "Please enter a number: 5.5\n",
      "Oops!  That was no valid number.  Try again...\n",
      "Please enter a number: 5\n"
     ]
    }
   ],
   "source": [
    "#ValueError\n",
    "while True:\n",
    "    try:\n",
    "        x = int(input(\"Please enter a number: \"))\n",
    "        break\n",
    "    except ValueError:\n",
    "        print(\"Oops!  That was no valid number.  Try again...\")\n",
    "'''\n",
    "Output:\n",
    "Please enter a number: 5.5\n",
    "Oops!  That was no valid number.  Try again...\n",
    "Please enter a number: 5\n",
    "'''"
   ]
  },
  {
   "cell_type": "code",
   "execution_count": 73,
   "metadata": {},
   "outputs": [
    {
     "name": "stdout",
     "output_type": "stream",
     "text": [
      "Goodbye, world!\n"
     ]
    },
    {
     "ename": "KeyboardInterrupt",
     "evalue": "",
     "output_type": "error",
     "traceback": [
      "\u001b[1;31m---------------------------------------------------------------------------\u001b[0m",
      "\u001b[1;31mKeyboardInterrupt\u001b[0m                         Traceback (most recent call last)",
      "\u001b[1;32m<ipython-input-73-64419d6ed684>\u001b[0m in \u001b[0;36m<module>\u001b[1;34m\u001b[0m\n\u001b[0;32m      1\u001b[0m \u001b[1;31m#raise the exception and finally\u001b[0m\u001b[1;33m\u001b[0m\u001b[1;33m\u001b[0m\u001b[1;33m\u001b[0m\u001b[0m\n\u001b[0;32m      2\u001b[0m \u001b[1;32mtry\u001b[0m\u001b[1;33m:\u001b[0m\u001b[1;33m\u001b[0m\u001b[1;33m\u001b[0m\u001b[0m\n\u001b[1;32m----> 3\u001b[1;33m         \u001b[1;32mraise\u001b[0m \u001b[0mKeyboardInterrupt\u001b[0m\u001b[1;33m\u001b[0m\u001b[1;33m\u001b[0m\u001b[0m\n\u001b[0m\u001b[0;32m      4\u001b[0m \u001b[1;32mfinally\u001b[0m\u001b[1;33m:\u001b[0m\u001b[1;33m\u001b[0m\u001b[1;33m\u001b[0m\u001b[0m\n\u001b[0;32m      5\u001b[0m         \u001b[0mprint\u001b[0m\u001b[1;33m(\u001b[0m\u001b[1;34m'Goodbye, world!'\u001b[0m\u001b[1;33m)\u001b[0m\u001b[1;33m\u001b[0m\u001b[1;33m\u001b[0m\u001b[0m\n",
      "\u001b[1;31mKeyboardInterrupt\u001b[0m: "
     ]
    }
   ],
   "source": [
    "#KeyboardInterrupt\n",
    "#raise the exception and finally\n",
    "try:\n",
    "\traise KeyboardInterrupt\n",
    "finally:\n",
    "\tprint('Goodbye, world!')\n"
   ]
  },
  {
   "cell_type": "code",
   "execution_count": 82,
   "metadata": {},
   "outputs": [
    {
     "name": "stdout",
     "output_type": "stream",
     "text": [
      "Can write in dir\n"
     ]
    }
   ],
   "source": [
    "#If directory is not writable IOError Exception\n",
    "try:\n",
    "#/target.txt generated IOError\n",
    "#if changed to target.txt no exception is generated\n",
    "\t#w=open('/target.txt','w')\n",
    "    w=open('target.txt','w')\n",
    "except IOError:\n",
    "\tprint(\"Can not write to the target file\")\n",
    "else:\n",
    "\t\tw.write('success')\n",
    "\t\tprint('Can write in dir')\n",
    "w.close()\n",
    "'''\n",
    "#/target.txt\n",
    "Can not write to the target file\n",
    "#target.txt\n",
    "Can write in dir\n",
    "'''"
   ]
  },
  {
   "cell_type": "code",
   "execution_count": 85,
   "metadata": {},
   "outputs": [
    {
     "name": "stdout",
     "output_type": "stream",
     "text": [
      "x = 5\n",
      "y = 0\n",
      "division by zero\n",
      "program finished\n"
     ]
    },
    {
     "data": {
      "text/plain": [
       "'\\n#1st try\\nx = 5.5\\nBad number in input\\nprogram finished\\n\\n#2nd try\\nx = 5\\ny = 7\\nresult is 0.7142857142857143\\nprogram finished\\n\\n#3rd try\\n'"
      ]
     },
     "execution_count": 85,
     "metadata": {},
     "output_type": "execute_result"
    }
   ],
   "source": [
    "#Try, except, else, finally\n",
    "#ValueError\n",
    "#ZeroDivisionError\n",
    "try:\n",
    "\tx = int(input(\"x = \"))\n",
    "\ty = int(input(\"y = \"))\n",
    "\tresult = x/y\n",
    "except ValueError:\n",
    "\tprint(\"Bad number in input\")    \n",
    "except ZeroDivisionError:\n",
    "\tprint(\"division by zero\")\n",
    "else:\n",
    "\tprint(\"result is\", result)\n",
    "finally: \n",
    "\tprint(\"program finished\")\n",
    "\n",
    "'''\n",
    "#1st try\n",
    "x = 5.5\n",
    "Bad number in input\n",
    "program finished\n",
    "\n",
    "#2nd try\n",
    "x = 5\n",
    "y = 7\n",
    "result is 0.7142857142857143\n",
    "program finished\n",
    "\n",
    "#3rd try\n",
    "x = 5\n",
    "y = 0\n",
    "division by zero\n",
    "program finished\n",
    "'''    "
   ]
  },
  {
   "cell_type": "code",
   "execution_count": 86,
   "metadata": {},
   "outputs": [
    {
     "name": "stdout",
     "output_type": "stream",
     "text": [
      "Hello#PK#AK#"
     ]
    }
   ],
   "source": [
    "#special case\n",
    "try:\n",
    "\tprint('Hello', end='#')\n",
    "except:   \n",
    "\tprint('Bye', end='#')\n",
    "else:\n",
    "\tprint('PK', end='#')\n",
    "finally:\n",
    "\tprint('AK', end='#')\n",
    "'''\n",
    "Output:\n",
    "Hello#PK#AK#\n",
    "'''    "
   ]
  },
  {
   "cell_type": "code",
   "execution_count": 88,
   "metadata": {},
   "outputs": [
    {
     "name": "stdout",
     "output_type": "stream",
     "text": [
      "Division by Zero\n"
     ]
    }
   ],
   "source": [
    "#ArithmeticError\n",
    "try:\n",
    "\t5/0\n",
    "except:\n",
    "\tprint(\"Something Bad Happened\")\n",
    "except ZeroDivisionError:\n",
    "\tprint(\"Division by Zero\")\n",
    "except ArithmeticError:\n",
    "\tprint(\"Bad Arithmetic\")\n",
    "#Output: 5/0: SyntaxError: default 'except:' must be last"
   ]
  },
  {
   "cell_type": "code",
   "execution_count": null,
   "metadata": {},
   "outputs": [],
   "source": [
    "#modified above"
   ]
  },
  {
   "cell_type": "code",
   "execution_count": 89,
   "metadata": {},
   "outputs": [
    {
     "name": "stdout",
     "output_type": "stream",
     "text": [
      "Division by Zero\n"
     ]
    }
   ],
   "source": [
    "try:\n",
    "\t5/0\n",
    "except ZeroDivisionError:\n",
    "\tprint(\"Division by Zero\")\n",
    "except ArithmeticError:\n",
    "\tprint(\"Bad Arithmetic\")\n",
    "except:\n",
    "\tprint(\"Something Bad Happened\")\n",
    "#Output:Division by Zero"
   ]
  },
  {
   "cell_type": "code",
   "execution_count": 6,
   "metadata": {},
   "outputs": [
    {
     "name": "stdout",
     "output_type": "stream",
     "text": [
      "ok hello\n",
      "Assert error goodbye\n"
     ]
    }
   ],
   "source": [
    "x = \"hello\"\n",
    "\n",
    "#if condition returns True, then nothing happens:\n",
    "try:\n",
    "    assert x == \"hello\"\n",
    "except AssertionError:\n",
    "    print(\"Assert error hello\")\n",
    "else:\n",
    "    print(\"ok hello\")\n",
    "#if condition returns False, AssertionError is raised:\n",
    "try:\n",
    "    assert x == \"goodbye\"\n",
    "except AssertionError:\n",
    "    print(\"Assert error goodbye\")\n",
    "else:\n",
    "    print(\"ok goodbye\")\n",
    "\n",
    "#Output:    \n",
    "#ok hello\n",
    "#Assert error goodbye"
   ]
  },
  {
   "cell_type": "code",
   "execution_count": 92,
   "metadata": {
    "scrolled": true
   },
   "outputs": [
    {
     "name": "stdout",
     "output_type": "stream",
     "text": [
      "Enter a string : Hacker Rank\n",
      "Output:  Hce ak akrRn\n"
     ]
    }
   ],
   "source": [
    "#ODD EVEN INDEX\n",
    "s=input(\"Enter a string : \")\n",
    "listt=list(s)\n",
    "n=len(listt)\n",
    "lOdd=''.join(listt[1::2])\n",
    "lEven=''.join(listt[0::2])\n",
    "print(\"Output: \",lEven,lOdd) \n",
    "'''\n",
    "Output:\n",
    "Enter a string : Hacker Rank\n",
    "Output:  Hce ak akrRn\n",
    "'''"
   ]
  }
 ],
 "metadata": {
  "kernelspec": {
   "display_name": "Python 3",
   "language": "python",
   "name": "python3"
  },
  "language_info": {
   "codemirror_mode": {
    "name": "ipython",
    "version": 3
   },
   "file_extension": ".py",
   "mimetype": "text/x-python",
   "name": "python",
   "nbconvert_exporter": "python",
   "pygments_lexer": "ipython3",
   "version": "3.7.3"
  }
 },
 "nbformat": 4,
 "nbformat_minor": 2
}
