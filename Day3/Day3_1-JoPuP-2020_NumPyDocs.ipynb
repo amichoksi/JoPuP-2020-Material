{
 "cells": [
  {
   "cell_type": "markdown",
   "metadata": {},
   "source": [
    "### NumPyAggregateFunctions "
   ]
  },
  {
   "cell_type": "code",
   "execution_count": 1,
   "metadata": {},
   "outputs": [
    {
     "data": {
      "text/plain": [
       "'\\nThe NumPy library is the core library for scientific computing in Python. It provides \\na high-performance multidimensional array object, and tools for working with these arrays.\\n'"
      ]
     },
     "execution_count": 1,
     "metadata": {},
     "output_type": "execute_result"
    }
   ],
   "source": [
    "'''\n",
    "The NumPy library is the core library for scientific computing in Python. It provides \n",
    "a high-performance multidimensional array object, and tools for working with these arrays.\n",
    "'''"
   ]
  },
  {
   "cell_type": "code",
   "execution_count": 2,
   "metadata": {},
   "outputs": [
    {
     "name": "stdout",
     "output_type": "stream",
     "text": [
      "[[5 6]\n",
      " [7 4]]\n"
     ]
    }
   ],
   "source": [
    "#import numpy library\n",
    "import numpy as np\n",
    "#make numpy 2D array\n",
    "x=np.array([[5,6],[7,4]])\n",
    "#print 2D arrays\n",
    "print(x)"
   ]
  },
  {
   "cell_type": "code",
   "execution_count": 3,
   "metadata": {},
   "outputs": [
    {
     "name": "stdout",
     "output_type": "stream",
     "text": [
      "sum  22\n",
      "min  4\n",
      "max among rows :  [7 6]\n",
      "cumsum :  [[ 5 11]\n",
      " [ 7 11]]\n",
      "mean :  5.5\n",
      "std deviation  1.118033988749895\n",
      "median :  5.5\n",
      "correl :  [[ 1. -1.]\n",
      " [-1.  1.]]\n"
     ]
    }
   ],
   "source": [
    "print(\"sum \" ,x.sum())#sum of all elements of an array\n",
    "print(\"min \",x.min())#min of array elements\n",
    "\n",
    "print(\"max among rows : \",x.max(axis=0))#maximum value: [max(5,7),max(6,4)]=[7,6]\n",
    "print(\"cumsum : \",x.cumsum(axis=1))\n",
    "#Cumulative sum of the elements\n",
    "print(\"mean : \", x.mean())#mean\n",
    "print(\"std deviation \",np.std(x))#standard deviation\n",
    "print(\"median : \",np.median(x))\n",
    "print(\"correl : \",np.corrcoef(x))\n",
    "#Correlation coefficient"
   ]
  },
  {
   "cell_type": "markdown",
   "metadata": {},
   "source": [
    "### NumPyArrayOperations "
   ]
  },
  {
   "cell_type": "code",
   "execution_count": 4,
   "metadata": {},
   "outputs": [
    {
     "data": {
      "text/plain": [
       "'\\nThe NumPy library is the core library for scientific computing in Python. It provides \\na high-performance multidimensional array object, and tools for working with these arrays.\\n'"
      ]
     },
     "execution_count": 4,
     "metadata": {},
     "output_type": "execute_result"
    }
   ],
   "source": [
    "'''\n",
    "The NumPy library is the core library for scientific computing in Python. It provides \n",
    "a high-performance multidimensional array object, and tools for working with these arrays.\n",
    "'''"
   ]
  },
  {
   "cell_type": "code",
   "execution_count": 5,
   "metadata": {},
   "outputs": [
    {
     "name": "stdout",
     "output_type": "stream",
     "text": [
      "[[ 1  2  3  4  5]\n",
      " [ 6  7  8  9 10]\n",
      " [11 12 13 14 15]]\n"
     ]
    }
   ],
   "source": [
    "#import numpy library\n",
    "import numpy as np\n",
    "#make numpy 2D array\n",
    "x=np.array([[1,2,3,4,5],[6,7,8,9,10],[11,12,13,14,15]])\n",
    "#print 2D arrays\n",
    "print(x)"
   ]
  },
  {
   "cell_type": "code",
   "execution_count": 6,
   "metadata": {},
   "outputs": [
    {
     "name": "stdout",
     "output_type": "stream",
     "text": [
      "subset :  [ 6  7  8  9 10]\n",
      "subset :  7\n"
     ]
    }
   ],
   "source": [
    "#Subset Operations\n",
    "print(\"subset : \",x[1])\n",
    "print(\"subset : \",x[1,1])"
   ]
  },
  {
   "cell_type": "code",
   "execution_count": 7,
   "metadata": {},
   "outputs": [
    {
     "name": "stdout",
     "output_type": "stream",
     "text": [
      "[[1 2 3 4 5]]\n",
      "[[1 2 3 4 5]]\n",
      "[ 2  7 12]\n"
     ]
    }
   ],
   "source": [
    "#Slicing Operation\n",
    "print(x[0:1])\n",
    "print(x[:1])\n",
    "print(x[0:5,1])"
   ]
  },
  {
   "cell_type": "code",
   "execution_count": 8,
   "metadata": {},
   "outputs": [
    {
     "name": "stdout",
     "output_type": "stream",
     "text": [
      "[[ 1  2  3  4  5]\n",
      " [ 6  7  8  9 10]\n",
      " [11 12 13 14 15]\n",
      " [ 9 10 11 12 13]]\n"
     ]
    }
   ],
   "source": [
    "#Add row in numpy array\n",
    "x=np.vstack([x,np.array([9,10,11,12,13])]) \n",
    "print(x)"
   ]
  },
  {
   "cell_type": "code",
   "execution_count": 17,
   "metadata": {},
   "outputs": [
    {
     "name": "stdout",
     "output_type": "stream",
     "text": [
      "[[1 2 3]\n",
      " [6 7 8]]\n",
      "[[1 2 3 9 9 0]\n",
      " [6 7 8 8 8 0]]\n"
     ]
    }
   ],
   "source": [
    "#horizontally stacked array\n",
    "x=np.array([[1,2,3],[6,7,8]])\n",
    "print(x)\n",
    "y=np.hstack((x,[[9,9,0],[8,8,0]]))\n",
    "print(y)"
   ]
  },
  {
   "cell_type": "code",
   "execution_count": 11,
   "metadata": {},
   "outputs": [
    {
     "name": "stdout",
     "output_type": "stream",
     "text": [
      "[  1   2   3   4   5   6   7   8   9  10  11  12  13  14  15   9  10  11\n",
      "  12  13   1   2   3 100 200]\n"
     ]
    }
   ],
   "source": [
    "x=np.append(x,np.array([1,2,3,100,200]))\n",
    "print(x)"
   ]
  }
 ],
 "metadata": {
  "kernelspec": {
   "display_name": "Python 3",
   "language": "python",
   "name": "python3"
  },
  "language_info": {
   "codemirror_mode": {
    "name": "ipython",
    "version": 3
   },
   "file_extension": ".py",
   "mimetype": "text/x-python",
   "name": "python",
   "nbconvert_exporter": "python",
   "pygments_lexer": "ipython3",
   "version": "3.7.3"
  }
 },
 "nbformat": 4,
 "nbformat_minor": 2
}
