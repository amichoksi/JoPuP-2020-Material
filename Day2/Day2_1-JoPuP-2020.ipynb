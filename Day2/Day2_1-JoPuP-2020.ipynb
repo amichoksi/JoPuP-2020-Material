{
 "cells": [
  {
   "cell_type": "code",
   "execution_count": 60,
   "metadata": {},
   "outputs": [
    {
     "name": "stdout",
     "output_type": "stream",
     "text": [
      "10\n"
     ]
    }
   ],
   "source": [
    "#Class Definition\n",
    "class Calculator(object):\n",
    "    def add(self, no1, no2):\n",
    "        return (no1+no2)\n",
    "\n",
    "#make object of a class\n",
    "ob = Calculator()\n",
    "print(ob.add(6,4))#10"
   ]
  },
  {
   "cell_type": "code",
   "execution_count": 61,
   "metadata": {},
   "outputs": [
    {
     "name": "stdout",
     "output_type": "stream",
     "text": [
      "10\n",
      "20\n"
     ]
    }
   ],
   "source": [
    "#Initializing class member in method\n",
    "class A:\n",
    "    a=100\n",
    "    def first(self, a, b):\n",
    "    #self is not the keyword in python\n",
    "        self.a=a\n",
    "        print(a)#10\n",
    "        print(b)#20\n",
    "\n",
    "r = A()\n",
    "r.first(10,20)"
   ]
  },
  {
   "cell_type": "code",
   "execution_count": 62,
   "metadata": {},
   "outputs": [
    {
     "name": "stdout",
     "output_type": "stream",
     "text": [
      "6000\n"
     ]
    }
   ],
   "source": [
    "#box with two attributes width and height, depth calculate volume of box\n",
    "class Box:\n",
    "\twidth=0\n",
    "\theight=0\n",
    "\tdepth=0\n",
    "\tdef volume(self, width, height, depth):\n",
    "\t\tself.width=width\n",
    "\t\tself.height=height\n",
    "\t\tself.depth=depth\n",
    "\t\treturn(width*height*depth)\n",
    "\n",
    "r = Box()\n",
    "v=r.volume(10,20,30)\n",
    "print(v)\n",
    "#O/P:6000"
   ]
  },
  {
   "cell_type": "code",
   "execution_count": 63,
   "metadata": {},
   "outputs": [
    {
     "name": "stdout",
     "output_type": "stream",
     "text": [
      "6000\n",
      "10:20:30\n"
     ]
    }
   ],
   "source": [
    "#String Representaion of Object\n",
    "#box with two attributes width and height, depth calculate volume of box\n",
    "class Box:\n",
    "\twidth=0\n",
    "\theight=0\n",
    "\tdepth=0\n",
    "\tdef volume(self, width, height, depth):\n",
    "\t\tself.width=width\n",
    "\t\tself.height=height\n",
    "\t\tself.depth=depth\n",
    "\t\treturn(width*height*depth)\n",
    "\tdef __str__(self):\n",
    "\t\treturn str(self.width)+\":\"+str(self.height)+\":\"+str(self.depth)\n",
    "\n",
    "r = Box()\n",
    "v=r.volume(10,20,30)\n",
    "print(v)\n",
    "print(r)\n",
    "#O/P:6000\n",
    "#10:20:30"
   ]
  },
  {
   "cell_type": "code",
   "execution_count": 64,
   "metadata": {},
   "outputs": [
    {
     "name": "stdout",
     "output_type": "stream",
     "text": [
      "False\n",
      "True\n"
     ]
    }
   ],
   "source": [
    "#Special Methods\n",
    "class Comparables:\n",
    "\tc =0\n",
    "\tdef __eq__(self, other):\n",
    "\t\treturn self.c==other.c\n",
    "\tdef __ne__(self, other):\n",
    "\t\treturn self.c!=other.c\n",
    "\tdef __gt__(self, other):\n",
    "\t\treturn self.c>other.c\n",
    "\tdef __ge__(self, other):\n",
    "\t\treturn self.c<other.c\n",
    "\tdef __le__(self, other):\n",
    "\t\treturn other.c<=self.c\n",
    "\n",
    "v = Comparables()\n",
    "v.c=3\n",
    "j=Comparables()\n",
    "j.c=4\n",
    "print(v==j)#False\n",
    "print(v!=j)#True"
   ]
  },
  {
   "cell_type": "code",
   "execution_count": 65,
   "metadata": {},
   "outputs": [
    {
     "name": "stdout",
     "output_type": "stream",
     "text": [
      "True\n"
     ]
    }
   ],
   "source": [
    "#special methods\n",
    "class A:\n",
    "\tdef __init__(self, i = 0, j = 0):\n",
    "\t\tself.i = i\n",
    "\t\tself.j = j\n",
    "\n",
    "\tdef __str__(self):\n",
    "\t\treturn \"some string\"\n",
    "\n",
    "\tdef __eq__(self, other):\n",
    "\t\treturn self.i * self.j == other.i * other.j\n",
    "\n",
    "def main():\n",
    "\t\tx = A(4, 3)\n",
    "\t\ty = A(6, 2)\n",
    "\t\tprint(x == y)\n",
    "if __name__== \"__main__\" :\n",
    "    main()#True"
   ]
  },
  {
   "cell_type": "code",
   "execution_count": 66,
   "metadata": {},
   "outputs": [
    {
     "name": "stdout",
     "output_type": "stream",
     "text": [
      "Inside Constructor\n"
     ]
    }
   ],
   "source": [
    "#constructor\n",
    "class Box:\n",
    "\tdef __init__(self):\n",
    "\t\tprint(\"Inside Constructor\")\n",
    "        \n",
    "\twidth=0\n",
    "\t_height=0\n",
    "\t__depth=0\n",
    "\n",
    "\tdef volume(self, width, height, depth):\n",
    "\t\tself.width=width\n",
    "\t\tself.height=height\n",
    "\t\tself.depth=depth\n",
    "\t\treturn(width*height*depth)\n",
    "r = Box()\n",
    "#O/P: Inside Constructor"
   ]
  },
  {
   "cell_type": "code",
   "execution_count": 67,
   "metadata": {},
   "outputs": [
    {
     "name": "stdout",
     "output_type": "stream",
     "text": [
      "in constructor\n",
      "In destructor\n"
     ]
    }
   ],
   "source": [
    "#constructor & destructor\n",
    "class Box:\n",
    "\t#constructor\n",
    "\tdef __init__(self):\n",
    "\t\tprint(\"in constructor\")\n",
    "\t#destructor    \n",
    "\tdef __del__(self):         \n",
    "\t\tprint(\"In destructor\")   \n",
    "\n",
    "r = Box()\n",
    "#explicit calling of destructor\n",
    "del r\n",
    "#O/P:\n",
    "#In constructor\n",
    "#In destructor"
   ]
  },
  {
   "cell_type": "code",
   "execution_count": 68,
   "metadata": {},
   "outputs": [
    {
     "name": "stdout",
     "output_type": "stream",
     "text": [
      "ob :  ami choksi\n",
      "name:  choksi\n",
      "birthday 1960-09-22\n",
      "Cat age :  15293\n",
      "Bat age :  29561\n"
     ]
    }
   ],
   "source": [
    "#Class Example with Constructor, getter and setter \n",
    "#methods\n",
    "import datetime\n",
    "class Person(object):\n",
    "\t#name='temp'\n",
    "\tdef __init__(self, name):\n",
    "\t\tself.name = name\n",
    "\t\ttry:\n",
    "\t\t\tlastblank = name.rindex(' ')\n",
    "\t\t\tself.lastname = name[lastblank+1:]\n",
    "\t\t\t#self.birthdate = date.today()\n",
    "        #Raised when an index of a sequence does not exist\n",
    "\t\texcept IndexError:\n",
    "\t\t\tself.lastname = name\n",
    "\t\t\tself.birthdate = None\n",
    "\n",
    "\tdef getName(self):\n",
    "\t\treturn self.name\n",
    "\n",
    "\tdef getLastName(self):\n",
    "\t\treturn self.lastname\n",
    "\n",
    "\tdef setBirthday(self, birthdate):\n",
    "\t\tself.birthdate = birthdate\n",
    "\n",
    "\tdef getAge(self):\n",
    "        \n",
    "\t\tif self.birthdate ==None:\n",
    "\t\t\traise ValueError('Birthday not set for '+self.name)\n",
    "\t\treturn (datetime.date.today() -self.birthdate).days\n",
    "\n",
    "\tdef __lt__(self, other):\n",
    "\t\tif self.lastname ==other.lastname:\n",
    "\t\t\treturn self.name < other.name\n",
    "\t\treturn self.lastname < other.lastname\n",
    "\tdef __str__(self):\n",
    "\t\treturn self.name\n",
    "\n",
    "ob = Person(\"ami choksi\")#choksi\n",
    "ob.setBirthday(datetime.date(1960,9,22))\n",
    "print(\"ob : \",ob)#ami choksi\n",
    "print(\"name: \",ob.lastname)#choksi\n",
    "print(\"birthday\", ob.birthdate)\n",
    "\n",
    "cat = Person('Gar field')\n",
    "bat = Person('Bruce wayne')\n",
    "cat.setBirthday(datetime.date(1978,6,19))\n",
    "bat.setBirthday(datetime.date(1939,5,27))\n",
    "print(\"Cat age : \",cat.getAge())#14645\n",
    "print(\"Bat age : \",bat.getAge())#28913\n",
    "\n",
    "#\n",
    "#ob :  ami choksi\n",
    "#name:  choksi\n",
    "#birthday 1960-09-22\n",
    "#Cat age :  15284\n",
    "#Bat age :  29552"
   ]
  },
  {
   "cell_type": "code",
   "execution_count": 32,
   "metadata": {},
   "outputs": [
    {
     "name": "stdout",
     "output_type": "stream",
     "text": [
      "Person's getInfo is called\n",
      "Staff's getInfo is called\n",
      "Person's getInfo is called\n",
      "Staff's getInfo is called\n"
     ]
    }
   ],
   "source": [
    "#Inheritance:Person->Staff:class Staff(Person):\n",
    "class Person:\n",
    "\tdef getInfo(self):\n",
    "\t\treturn \"Person's getInfo is called\"\n",
    "\n",
    "\tdef printPerson(self):\n",
    "\t\tprint(self.getInfo())\n",
    "\n",
    "class Staff(Person):\n",
    "\tdef getInfo(self):\n",
    "\t\treturn \"Staff's getInfo is called\"\n",
    "\n",
    "def main():\n",
    "\tPerson().printPerson()\n",
    "\tStaff().printPerson()\n",
    " #following way, we used till now.   \n",
    "\tc=Person()\n",
    "\tc.printPerson()\n",
    "\td=Staff()\n",
    "\td.printPerson()\n",
    "\n",
    "\n",
    "main()\n",
    "#Output: Person's getInfo is called\n",
    "#Staff's getInfo is called\"#"
   ]
  },
  {
   "cell_type": "code",
   "execution_count": 33,
   "metadata": {},
   "outputs": [
    {
     "name": "stdout",
     "output_type": "stream",
     "text": [
      "True\n",
      "False\n",
      "True\n"
     ]
    }
   ],
   "source": [
    "#isinstance checking\n",
    "class box:\n",
    "\tdef isBOX(self):\n",
    "\t\treturn isinstance(self,box)\n",
    "\n",
    "o = box();\n",
    "#direct checking\n",
    "print(isinstance(o,box))#True\n",
    "print(isinstance(o,Person))#False\n",
    "\n",
    "#checking through a method\n",
    "print(o.isBOX())#True"
   ]
  },
  {
   "cell_type": "code",
   "execution_count": 34,
   "metadata": {},
   "outputs": [
    {
     "name": "stdout",
     "output_type": "stream",
     "text": [
      "False\n",
      "True\n"
     ]
    }
   ],
   "source": [
    "#isinstance revisited\n",
    "class box:\n",
    "\tpass\n",
    "class rupee:\n",
    "\tpass\n",
    "\n",
    "def isBOX(self):\n",
    "\tif isinstance(self,rupee):\n",
    "\t\treturn True\n",
    "\telif isinstance(self, box):\n",
    "\t\treturn False\n",
    "\n",
    "o = box()\n",
    "ob = rupee()\n",
    "print(isBOX(o))#False\n",
    "print(isBOX(ob))#True"
   ]
  },
  {
   "cell_type": "code",
   "execution_count": 35,
   "metadata": {},
   "outputs": [
    {
     "name": "stdout",
     "output_type": "stream",
     "text": [
      "January\n",
      "September\n",
      "Invalid Month\n"
     ]
    }
   ],
   "source": [
    "#Switch case demo\n",
    "def switch_demo(argument):\n",
    "\tswitcher = {1: \"January\",\n",
    "\t\t2: \"February\",\n",
    "\t\t3: \"March\",\n",
    "\t\t4: \"April\",\n",
    "\t\t5: \"May\",\n",
    "\t\t6: \"June\",\n",
    "\t\t7: \"July\",\n",
    "\t\t8: \"August\",\n",
    "\t\t9: \"September\",\n",
    "\t\t10: \"October\",\n",
    "\t\t11: \"November\",\n",
    "\t\t12: \"December\"\n",
    "}\n",
    "#Syntax : dict.get(key, default=None)    \n",
    "\tprint(switcher.get(argument,\"Invalid Month\"))\n",
    "\n",
    "switch_demo(1)#January\n",
    "switch_demo(9)#September\n",
    "switch_demo(15)#Invalid Month"
   ]
  },
  {
   "cell_type": "code",
   "execution_count": 36,
   "metadata": {
    "scrolled": true
   },
   "outputs": [
    {
     "name": "stdout",
     "output_type": "stream",
     "text": [
      "9999999999\n",
      "Python\n",
      "ckp\n",
      "Student show\n",
      "Phone: 9999999999\n",
      "Name: ckp\n",
      "Book: Python\n",
      "Engg Student show\n",
      "Phone: 1111111111\n",
      "Name: ac\n",
      "Book: Java\n"
     ]
    }
   ],
   "source": [
    "#Inheritance Student->EnggStudent and \n",
    "#use of public, private, protected variables\n",
    "class Student:\n",
    "    #constructor of student\n",
    "\tdef __init__(self, phoneno, name,book):    \n",
    "\t\tself._phoneNo = phoneno #protected       \n",
    "\t\tself.name = name #public\n",
    "\t\tself.__book=book #private       \n",
    "\t#for private variable getter and setter methods are required        \n",
    "\tdef setBook(self,book):\n",
    "\t\tself.__book = book\n",
    "\tdef getBook(self):\n",
    "\t\treturn(self.__book)\n",
    "\tdef show(self):\n",
    "\t\tprint(\"Phone:\",self._phoneNo)\n",
    "\t\tprint(\"Name:\",self.name)\n",
    "\t\tprint(\"Book:\",self.__book)        \n",
    "\n",
    "class EnggStudent(Student):\n",
    "\tpass #no implementation just now, we will think later   \n",
    "\n",
    "s = Student(9999999999,\"ckp\",\"Python\")\n",
    "print(s._phoneNo)#9999999999\n",
    "#print(s.__book)#error\n",
    "print(s.getBook())\n",
    "print(s.name)#ckp\n",
    "\n",
    "es = EnggStudent(1111111111,\"ac\",\"Java\")\n",
    "\n",
    "print(\"Student show\")\n",
    "s.show()\n",
    "print(\"Engg Student show\")\n",
    "\n",
    "#print(es.__book)#AttributeError: 'EnggStudent' object has no attribute '__book'\n",
    "es.show()\n",
    "\n",
    "#Output:\n",
    "#9999999999\n",
    "#Python\n",
    "#ckp\n",
    "#Student show\n",
    "#Phone: 9999999999\n",
    "#Name: ckp\n",
    "#Book: Python\n",
    "#Engg Student show\n",
    "#Phone: 1111111111\n",
    "#Name: ac\n",
    "#Book: Java"
   ]
  },
  {
   "cell_type": "code",
   "execution_count": 37,
   "metadata": {},
   "outputs": [
    {
     "name": "stdout",
     "output_type": "stream",
     "text": [
      "11111 :Ami : DREAMWORLD\n",
      "2222 :Juhi : BEAUTYWORLD\n"
     ]
    }
   ],
   "source": [
    "#call protected method from subclass\n",
    "class Student:\n",
    "#constructor    \n",
    "\tdef __init__(self, phoneno, name,book):    \n",
    "\t\tself._phoneNo = phoneno        \n",
    "\t\tself.name = name\n",
    "\t\tself.__book = book       \n",
    "#protected method\n",
    "\tdef _protectmethod(self):\n",
    "\t\tprint(self._phoneNo,\":\"+self.name,\":\",self.__book)\n",
    "#subclass EnggStudent\n",
    "class EnggStudent(Student):\n",
    "    pass\n",
    "\n",
    "#make Student object\n",
    "s = Student(11111,\"Ami\",\"DREAMWORLD\")\n",
    "s._protectmethod();#11111 :Ami : DREAMWORLD\n",
    "\n",
    "#make EnggStudent object\n",
    "es = EnggStudent(2222,\"Juhi\",\"BEAUTYWORLD\")\n",
    "es._protectmethod()#2222 :Juhi : BEAUTYWORLD"
   ]
  },
  {
   "cell_type": "code",
   "execution_count": 38,
   "metadata": {},
   "outputs": [
    {
     "name": "stdout",
     "output_type": "stream",
     "text": [
      "11111 :Ami : DREAMWORLD\n",
      "2222 :Juhi : BEAUTYWORLD\n"
     ]
    }
   ],
   "source": [
    "#call private method from subclass via public method\n",
    "class Student:\n",
    "#constructor    \n",
    "\tdef __init__(self, phoneno, name,book):    \n",
    "\t\tself._phoneNo = phoneno        \n",
    "\t\tself.name = name\n",
    "\t\tself.__book = book       \n",
    "#private method\n",
    "\tdef __privmethod(self):\n",
    "\t\tprint(self._phoneNo,\":\"+self.name,\":\",self.__book)\n",
    "\n",
    "#calling private method from public method\n",
    "\tdef callprivmethod(self):\n",
    "\t\tself.__privmethod()        \n",
    "\n",
    "class EnggStudent(Student):\n",
    "    pass\n",
    "\n",
    "#make Student object\n",
    "s = Student(11111,\"Ami\",\"DREAMWORLD\")\n",
    "#s.__privmethod();\n",
    "#AttributeError: 'Student' object has no attribute '__privmethod'\n",
    "#call private method from public method\n",
    "s.callprivmethod()#11111 :Ami : DREAMWORLD\n",
    "\n",
    "#make EnggStudent object\n",
    "es = EnggStudent(2222,\"Juhi\",\"BEAUTYWORLD\")\n",
    "#es.__privmethod()\n",
    "#AttributeError: 'EnggStudent' object has no attribute '__privmethod'\n",
    "es.callprivmethod()#2222 :Juhi : BEAUTYWORLD\n"
   ]
  },
  {
   "cell_type": "markdown",
   "metadata": {},
   "source": [
    "### User Defined Module"
   ]
  },
  {
   "cell_type": "code",
   "execution_count": 39,
   "metadata": {
    "scrolled": true
   },
   "outputs": [
    {
     "name": "stdout",
     "output_type": "stream",
     "text": [
      "Module : Moduleone\n"
     ]
    }
   ],
   "source": [
    "#User defined module Moduleone.py, imported in two.py or here. \n",
    "#Moduleone.py should be available in the same directory as this file.\n",
    "#Contents of the file shoould be\n",
    "\n",
    "#Moduleone.py as follow, remove comments\n",
    "##############################################################################    \n",
    "#def getModuleName():\n",
    "#    print(\"module :\",__name__)#module name\n",
    "\n",
    "##############################################################################    \n",
    "#useModule.py\n",
    "from Moduleone import getModuleName\n",
    "def main():\n",
    "    getModuleName()\n",
    "    \n",
    "if __name__=='__main__':\n",
    "    main()\n",
    "\n",
    "#running useModule.py\n",
    "#O/P: Module : Moduleone"
   ]
  },
  {
   "cell_type": "markdown",
   "metadata": {},
   "source": [
    "### Polymorphism - Overriding "
   ]
  },
  {
   "cell_type": "code",
   "execution_count": 40,
   "metadata": {},
   "outputs": [
    {
     "name": "stdout",
     "output_type": "stream",
     "text": [
      "ANIMAL IS RUNNING\n",
      "CAT IS RUNNING\n"
     ]
    }
   ],
   "source": [
    "#run() method is available in both parent and child class\n",
    "class Animal:\n",
    "    def run(self):\n",
    "        print(\"ANIMAL IS RUNNING\")\n",
    "        \n",
    "class Cat(Animal):\n",
    "    def run(self):\n",
    "        print(\"CAT IS RUNNING\")\n",
    "\n",
    "\n",
    "#create object of Animal        \n",
    "a=Animal()\n",
    "#call run method\n",
    "a.run()#ANIMAL IS RUNNING\n",
    "#create object of Cat\n",
    "c=Cat()\n",
    "#call run method\n",
    "c.run()#CAT IS RUNNING\n"
   ]
  },
  {
   "cell_type": "code",
   "execution_count": 41,
   "metadata": {
    "scrolled": true
   },
   "outputs": [
    {
     "name": "stdout",
     "output_type": "stream",
     "text": [
      "ANIMAL IS RUNNING\n",
      "CAT IS RUNNING\n"
     ]
    }
   ],
   "source": [
    "#call super class method using super()\n",
    "#run() method is available in both parent and child class\n",
    "class Animal:\n",
    "    def run(self):\n",
    "        print(\"ANIMAL IS RUNNING\")\n",
    "        \n",
    "class Cat(Animal):\n",
    "    def run(self):\n",
    "        super().run()#calling super class run()\n",
    "        print(\"CAT IS RUNNING\")\n",
    "\n",
    "\n",
    "#create object of Cat\n",
    "c=Cat()\n",
    "#call run method\n",
    "c.run()\n",
    "#Output:\n",
    "#ANIMAL IS RUNNING\n",
    "#CAT IS RUNNING"
   ]
  },
  {
   "cell_type": "code",
   "execution_count": 42,
   "metadata": {},
   "outputs": [],
   "source": [
    "#Method overloading: method with same name and different signature\n",
    "class Calculator:\n",
    "    def add(self, no1, no2):\n",
    "        return(no1+no2)\n",
    "    def add(self, no1, no2, no3):\n",
    "        return(no1+no2+no3)\n",
    "\n",
    "#create object\n",
    "c=Calculator()\n",
    "#print(c.add(4,5))# add() missing 1 required positional argument: 'no3'\n",
    "#because it considers latest definition of add method\n",
    "#if we change the sequence of methods, two arguments method will be latest\n",
    "#so this way of method overloading is not possible in Python"
   ]
  },
  {
   "cell_type": "code",
   "execution_count": 43,
   "metadata": {},
   "outputs": [
    {
     "name": "stdout",
     "output_type": "stream",
     "text": [
      "Gujarati\n",
      "SouthIndian\n",
      "Punjabi\n",
      "Chienese\n",
      "Dhokala\n"
     ]
    }
   ],
   "source": [
    "#Method overloading \n",
    "class Man:\n",
    "    def FavouriteDish(self,*arg):\n",
    "        for i in arg :\n",
    "            print(i)\n",
    "\n",
    "m=Man()\n",
    "m.FavouriteDish('Gujarati','SouthIndian')#method call with 2 args\n",
    "m.FavouriteDish('Punjabi','Chienese','Dhokala')#method call with 3 args\n",
    "#Output:\n",
    "#Gujarati\n",
    "#SouthIndian\n",
    "#Punjabi\n",
    "#Chienese\n",
    "#Dhokala"
   ]
  }
 ],
 "metadata": {
  "kernelspec": {
   "display_name": "Python 3",
   "language": "python",
   "name": "python3"
  },
  "language_info": {
   "codemirror_mode": {
    "name": "ipython",
    "version": 3
   },
   "file_extension": ".py",
   "mimetype": "text/x-python",
   "name": "python",
   "nbconvert_exporter": "python",
   "pygments_lexer": "ipython3",
   "version": "3.7.3"
  }
 },
 "nbformat": 4,
 "nbformat_minor": 2
}
