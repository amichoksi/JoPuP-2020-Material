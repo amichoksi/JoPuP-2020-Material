{
 "cells": [
  {
   "cell_type": "markdown",
   "metadata": {},
   "source": [
    "### Iterator "
   ]
  },
  {
   "cell_type": "code",
   "execution_count": 51,
   "metadata": {},
   "outputs": [
    {
     "name": "stdout",
     "output_type": "stream",
     "text": [
      "1:2:3:\n",
      "4:5:6:\n",
      "one:two:\n",
      "7:8:9:\n",
      "a:m:i:\n",
      "Hello and welcome\n",
      ":to\n",
      ":the world of \n",
      ":computers:"
     ]
    }
   ],
   "source": [
    "#{Iterator Example}\n",
    "for element in [1,2,3]:\n",
    "\tprint(element,end=\":\")#1:2:3:\n",
    "print()    \n",
    "for element in (4,5,6):\n",
    "\tprint(element,end=\":\")#4:5:6:\n",
    "print()    \n",
    "for key in {'one':1,'two':2}:\n",
    "\tprint(key,end=\":\")#one:two:\n",
    "print()    \n",
    "for char in \"789\":\n",
    "\tprint(char,end=\":\")#7:8:9:\n",
    "print()\n",
    "for char in 'ami':\n",
    "\tprint(char,end=\":\")#a:m:i:\n",
    "print()\n",
    "for line in open(\"myfile.txt\"):\n",
    "\tprint(line,end=\":\")\n",
    "#Hello and welcome\n",
    "#:to\n",
    "#:the world of \n",
    "#:computers:    "
   ]
  },
  {
   "cell_type": "code",
   "execution_count": 4,
   "metadata": {},
   "outputs": [
    {
     "name": "stdout",
     "output_type": "stream",
     "text": [
      "<str_iterator object at 0x0000000004DD6390>\n",
      "a\n",
      "b\n",
      "c\n"
     ]
    }
   ],
   "source": [
    "#String iterator using iter()\n",
    "s='abc'\n",
    "it=iter(s)\n",
    "print(it)#<str_iterator object at 0x7fd69cce1390>\n",
    "print(next(it))#a\n",
    "print(next(it))#b\n",
    "print(next(it))#c\n"
   ]
  },
  {
   "cell_type": "code",
   "execution_count": 3,
   "metadata": {
    "scrolled": true
   },
   "outputs": [
    {
     "name": "stdout",
     "output_type": "stream",
     "text": [
      "<tuple_iterator object at 0x0000000004DD6198>\n",
      "1\n",
      "2\n",
      "3\n"
     ]
    }
   ],
   "source": [
    "#Tuple Iterator example using iter()\n",
    "s=(1,2,3)\n",
    "it=iter(s)\n",
    "print(it)\n",
    "print(next(it))#1\n",
    "print(next(it))#2\n",
    "print(next(it))#3\n"
   ]
  },
  {
   "cell_type": "code",
   "execution_count": 54,
   "metadata": {},
   "outputs": [
    {
     "name": "stdout",
     "output_type": "stream",
     "text": [
      "<list_iterator object at 0x0000000007D554E0>\n",
      "4\n",
      "5\n",
      "6\n"
     ]
    }
   ],
   "source": [
    "#List Iterator example using iter()\n",
    "st=[4,5,6]\n",
    "it=iter(st)\n",
    "print(it)\n",
    "print(next(it))#4\n",
    "print(next(it))#5\n",
    "print(next(it))#6"
   ]
  },
  {
   "cell_type": "code",
   "execution_count": 55,
   "metadata": {},
   "outputs": [
    {
     "name": "stdout",
     "output_type": "stream",
     "text": [
      "name\n",
      "work\n"
     ]
    }
   ],
   "source": [
    "#get Next key using iter() for Dictionary\n",
    "dict2={'name':'ami','work':'ckpcet','exp':'20'}\n",
    "\n",
    "it=iter(dict2)\n",
    "#name\n",
    "print(next(it))#work\n",
    "print(next(it))#exp\n"
   ]
  },
  {
   "cell_type": "code",
   "execution_count": 56,
   "metadata": {},
   "outputs": [
    {
     "name": "stdout",
     "output_type": "stream",
     "text": [
      "10-11-12-13-14-15-"
     ]
    }
   ],
   "source": [
    "#iter for class\n",
    "# A simple Python program to demonstrate \n",
    "# working of iterators using an example type \n",
    "# that iterates from 10 to given value \n",
    "\n",
    "# An iterable user defined type \n",
    "class Test: \n",
    "\n",
    "\t# Cosntructor \n",
    "\tdef __init__(self, limit): \n",
    "\t\tself.limit = limit \n",
    "\n",
    "\t# Called when iteration is initialized \n",
    "\tdef __iter__(self): \n",
    "\t\tself.x = 10\n",
    "\t\treturn self\n",
    "\n",
    "\t# To move to next element. In Python 3, \n",
    "\t# we should replace next with __next__ \n",
    "\tdef __next__(self): \n",
    "\n",
    "\t\t# Store current value ofx \n",
    "\t\tx = self.x \n",
    "\n",
    "\t\t# Stop iteration if limit is reached \n",
    "\t\tif x > self.limit: \n",
    "\t\t\traise StopIteration \n",
    "\n",
    "\t\t# Else increment and return old value \n",
    "\t\tself.x = x + 1; \n",
    "\t\treturn x \n",
    "\n",
    "# Prints numbers from 10 to 15 \n",
    "for i in Test(15): \n",
    "\tprint(i, end=\"-\") \n",
    "\n",
    "# Prints nothing \n",
    "for i in Test(5): \n",
    "\tprint(i, end=\"-\") \n"
   ]
  },
  {
   "cell_type": "code",
   "execution_count": 57,
   "metadata": {},
   "outputs": [
    {
     "name": "stdout",
     "output_type": "stream",
     "text": [
      "a\n",
      "b\n",
      "c\n",
      "d\n",
      "e\n"
     ]
    }
   ],
   "source": [
    "#print next characters using iter()\n",
    "class MyCharacters:\n",
    "    def __iter__(self):\n",
    "        self.a = 'a'\n",
    "    return self\n",
    "\n",
    "  def __next__(self):\n",
    "    x = self.a\n",
    "    self.a = chr(ord(self.a) + 1)\n",
    "    return x\n",
    "\n",
    "myclass = MyCharacters()\n",
    "myiter = iter(myclass)\n",
    "\n",
    "print(next(myiter))#a\n",
    "print(next(myiter))#b\n",
    "print(next(myiter))#c\n",
    "print(next(myiter))#d\n",
    "print(next(myiter))#e"
   ]
  },
  {
   "cell_type": "markdown",
   "metadata": {},
   "source": [
    "### zip()"
   ]
  },
  {
   "cell_type": "code",
   "execution_count": 58,
   "metadata": {},
   "outputs": [
    {
     "name": "stdout",
     "output_type": "stream",
     "text": [
      "<class 'zip'>\n",
      "[(1, 'a'), (2, 'b'), (3, 'c')]\n"
     ]
    }
   ],
   "source": [
    "numbers = [1, 2, 3]\n",
    "letters = ['a', 'b', 'c']\n",
    "zipped = zip(numbers, letters)\n",
    "print(type(zipped))#<class 'zip'>\n",
    "print(list(zipped))#[(1, 'a'), (2, 'b'), (3, 'c')]"
   ]
  },
  {
   "cell_type": "code",
   "execution_count": 59,
   "metadata": {},
   "outputs": [
    {
     "name": "stdout",
     "output_type": "stream",
     "text": [
      "<class 'zip'>\n",
      "[]\n"
     ]
    }
   ],
   "source": [
    "#empty zip\n",
    "zipu = zip()\n",
    "print(type(zipu))#<class 'zip'>\n",
    "print(list(zipu))#[]"
   ]
  },
  {
   "cell_type": "code",
   "execution_count": 60,
   "metadata": {},
   "outputs": [
    {
     "name": "stdout",
     "output_type": "stream",
     "text": [
      "(1, 'a')\n",
      "(2, 'b')\n",
      "(3, 'c')\n"
     ]
    }
   ],
   "source": [
    "#zip object iterate using next\n",
    "numbers = [1, 2, 3]\n",
    "letters = ['a', 'b', 'c']\n",
    "zipm = zip(numbers, letters)\n",
    "\n",
    "print(next(zipm))#(1, 'a')\n",
    "print(next(zipm))#(2, 'b')\n",
    "print(next(zipm))#(3, 'c')\n"
   ]
  },
  {
   "cell_type": "code",
   "execution_count": 61,
   "metadata": {
    "scrolled": true
   },
   "outputs": [
    {
     "name": "stdout",
     "output_type": "stream",
     "text": [
      "(1, 'a', 1.1)\n",
      "(2, 'b', 2.5)\n",
      "(3, 'c', 3.5)\n"
     ]
    }
   ],
   "source": [
    "#3 parameters zip\n",
    "numbers = [1, 2, 3]\n",
    "letters = ['a', 'b', 'c']\n",
    "exp=[1.1,2.5,3.5]\n",
    "zipm = zip(numbers, letters,exp)\n",
    "print(next(zipm))#(1, 'a', 1.1)\n",
    "print(next(zipm))#(2, 'b', 2.5)\n",
    "print(next(zipm))#(3, 'c', 3.5)"
   ]
  },
  {
   "cell_type": "code",
   "execution_count": 62,
   "metadata": {
    "scrolled": true
   },
   "outputs": [
    {
     "name": "stdout",
     "output_type": "stream",
     "text": [
      "(1, 'a', 1.1)\n",
      "(2, 'b', 2.5)\n"
     ]
    }
   ],
   "source": [
    "#unequal length arguments to zip\n",
    "numbers = [1, 2, 3]\n",
    "letters = ['a', 'b', 'c']\n",
    "exp=[1.1,2.5]\n",
    "zipm = zip(numbers, letters,exp)\n",
    "print(next(zipm))#(1, 'a', 1.1)\n",
    "print(next(zipm))#(2, 'b', 2.5)"
   ]
  },
  {
   "cell_type": "code",
   "execution_count": 63,
   "metadata": {
    "scrolled": true
   },
   "outputs": [
    {
     "name": "stdout",
     "output_type": "stream",
     "text": [
      "(0, '1', 1.1)\n",
      "(1, 'b', 2.3)\n",
      "(2, 'c', 3.4)\n",
      "('?', '?', 4.5)\n"
     ]
    }
   ],
   "source": [
    "#longest length argements we want to consider for zip, fill value with '?'\n",
    "from itertools import zip_longest\n",
    "numbers=range(3)\n",
    "letters=['1','b','c']\n",
    "longest=[1.1,2.3,3.4,4.5,5.6]\n",
    "zipm=zip_longest(numbers, letters, longest, fillvalue='?')\n",
    "print(next(zipm))#(0, '1', 1.1)\n",
    "print(next(zipm))#(1, 'b', 2.3)\n",
    "print(next(zipm))#(2, 'c', 3.4)\n",
    "print(next(zipm))#('?', '?', 4.5)"
   ]
  },
  {
   "cell_type": "code",
   "execution_count": 64,
   "metadata": {
    "scrolled": true
   },
   "outputs": [
    {
     "name": "stdout",
     "output_type": "stream",
     "text": [
      "Letter: a\n",
      "Number: 0\n",
      "Letter: b\n",
      "Number: 1\n",
      "Letter: c\n",
      "Number: 2\n"
     ]
    },
    {
     "data": {
      "text/plain": [
       "'\\nOutput:\\nLetter: a\\nNumber: 0\\nLetter: b\\nNumber: 1\\nLetter: c\\nNumber: 2\\n'"
      ]
     },
     "execution_count": 64,
     "metadata": {},
     "output_type": "execute_result"
    }
   ],
   "source": [
    "#traversing list in parallel\n",
    "letters = ['a', 'b', 'c']\n",
    "numbers = [0, 1, 2]\n",
    "for l, n in zip(letters, numbers):\n",
    "    print(f'Letter: {l}')\n",
    "    print(f'Number: {n}')\n",
    "'''\n",
    "Output:\n",
    "Letter: a\n",
    "Number: 0\n",
    "Letter: b\n",
    "Number: 1\n",
    "Letter: c\n",
    "Number: 2\n",
    "'''"
   ]
  },
  {
   "cell_type": "code",
   "execution_count": 65,
   "metadata": {},
   "outputs": [
    {
     "name": "stdout",
     "output_type": "stream",
     "text": [
      "(1, 2, 3)\n",
      "('a', 'b', 'c')\n"
     ]
    }
   ],
   "source": [
    "#Unzipping a Sequence\n",
    "numbers = [1, 2, 3]\n",
    "letters = ['a', 'b', 'c']\n",
    "zipm = zip(numbers, letters)\n",
    "numbers, letters = zip(*zipm)\n",
    "print(numbers)#(1, 2, 3)\n",
    "print(letters)#('a', 'b', 'c')"
   ]
  }
 ],
 "metadata": {
  "kernelspec": {
   "display_name": "Python 3",
   "language": "python",
   "name": "python3"
  },
  "language_info": {
   "codemirror_mode": {
    "name": "ipython",
    "version": 3
   },
   "file_extension": ".py",
   "mimetype": "text/x-python",
   "name": "python",
   "nbconvert_exporter": "python",
   "pygments_lexer": "ipython3",
   "version": "3.7.3"
  }
 },
 "nbformat": 4,
 "nbformat_minor": 2
}
