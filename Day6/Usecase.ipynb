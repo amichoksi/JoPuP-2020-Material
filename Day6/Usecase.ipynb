{
 "cells": [
  {
   "cell_type": "markdown",
   "metadata": {},
   "source": [
    "# Learn Python Programming Meetup : Parallel Processing\n",
    "\n",
    "### Usecase: Building Machine Learning Model in Parallel"
   ]
  },
  {
   "cell_type": "code",
   "execution_count": null,
   "metadata": {},
   "outputs": [],
   "source": [
    "! pip3 install pandas sklearn"
   ]
  },
  {
   "cell_type": "code",
   "execution_count": 1,
   "metadata": {},
   "outputs": [],
   "source": [
    "import time\n",
    "from multiprocessing import Pool\n",
    "\n",
    "import pandas as pd\n",
    "import numpy as np\n",
    "\n",
    "from sklearn import model_selection\n",
    "from sklearn.metrics import roc_curve\n",
    "from sklearn.metrics import log_loss\n",
    "from sklearn.model_selection import train_test_split\n",
    "from sklearn.utils import shuffle\n",
    "\n",
    "from sklearn.ensemble import (RandomForestClassifier, AdaBoostClassifier, \n",
    "                              ExtraTreesClassifier, GradientBoostingClassifier)"
   ]
  },
  {
   "cell_type": "code",
   "execution_count": 2,
   "metadata": {},
   "outputs": [],
   "source": [
    "def process_data_for_modeling(filepath):\n",
    "    df = pd.read_csv(filepath, low_memory=False)\n",
    "    gender_list = df.SEX.sample(10**4).map({'M':1, 'F':0})\n",
    "    df = df.rename(columns={\"FRACE6\": \"Fathers_Race\", \"MRAVE6\": \"Mothers_Race\"})\n",
    "    df['DBWT'] = df.DBWT.apply(lambda x: 0 if x > 2500 else 1)\n",
    "    df_ml = df.sample(2*10**4)\n",
    "    df_ml = df_ml.drop(columns=['FRACE15', 'Fathers_Race', 'MRACE15', 'Mothers_Race'])\n",
    "    df_ml = pd.get_dummies(df_ml, columns=['ATTEND', 'BFACIL', 'DMAR', 'FEDUC', 'FHISPX', \n",
    "                               'FRACE31', 'IMP_SEX', 'IP_GON', 'LD_INDL', \n",
    "                               'MAGE_IMPFLG', 'MAR_IMP', 'MBSTATE_REC', 'MEDUC', \n",
    "                               'MHISPX', 'MM_AICU', 'MRACE31', 'MRACEIMP', \n",
    "                               'MTRAN', 'NO_INFEC', 'NO_MMORB', 'NO_RISKS', \n",
    "                               'PAY', 'PAY_REC', 'PRECARE', 'RDMETH_REC', \n",
    "                               'RESTATUS', 'RF_CESAR', 'RF_CESARN', 'SEX'], \n",
    "                   drop_first=True)\n",
    "    return df_ml"
   ]
  },
  {
   "cell_type": "code",
   "execution_count": 3,
   "metadata": {},
   "outputs": [],
   "source": [
    "def find_logloss(model):\n",
    "    print(\"Starting Compute: {:32}\".format(model.__name__))\n",
    "    clf = model()\n",
    "    clf.fit(X_train, y_train)\n",
    "    y_out = clf.predict(X_test)\n",
    "    error = log_loss(y_test, y_out)\n",
    "    print(\"Computed Ended for model {:32} & LogLoss Error Score: {:.2f}\"\n",
    "          .format(model.__name__, error))"
   ]
  },
  {
   "cell_type": "code",
   "execution_count": 4,
   "metadata": {},
   "outputs": [],
   "source": [
    "def compute_in_parallel(models):\n",
    "    pool = Pool(4)\n",
    "    pool.map(find_logloss, models)\n",
    "    pool.close()\n",
    "    pool.join()"
   ]
  },
  {
   "cell_type": "code",
   "execution_count": 5,
   "metadata": {},
   "outputs": [],
   "source": [
    "def compute_in_sequence(models):\n",
    "    for model in models:\n",
    "        find_logloss(model)"
   ]
  },
  {
   "cell_type": "code",
   "execution_count": 6,
   "metadata": {},
   "outputs": [],
   "source": [
    "# Download dataset and place in same directory where you start Jupyter Notebook\n",
    "# dataset link: https://www.kaggle.com/des137/us-births-2018\n",
    "dataset_filepath='US_births(2018).csv'"
   ]
  },
  {
   "cell_type": "code",
   "execution_count": 7,
   "metadata": {},
   "outputs": [],
   "source": [
    "models = [RandomForestClassifier, AdaBoostClassifier, ExtraTreesClassifier, \n",
    "          GradientBoostingClassifier]\n",
    "df = process_data_for_modeling(dataset_filepath)\n",
    "\n",
    "X = df.drop(columns='DBWT')\n",
    "y = df.DBWT\n",
    "X_train, X_test, y_train, y_test = train_test_split(X, y, test_size=0.33)"
   ]
  },
  {
   "cell_type": "code",
   "execution_count": 8,
   "metadata": {},
   "outputs": [
    {
     "name": "stdout",
     "output_type": "stream",
     "text": [
      "Starting Compute: RandomForestClassifier          \n",
      "Starting Compute: AdaBoostClassifier              \n",
      "Starting Compute: GradientBoostingClassifier      \n",
      "Starting Compute: ExtraTreesClassifier            \n",
      "Computed Ended for model AdaBoostClassifier               & LogLoss Error Score: 2.68\n",
      "Computed Ended for model RandomForestClassifier           & LogLoss Error Score: 2.73\n",
      "Computed Ended for model ExtraTreesClassifier             & LogLoss Error Score: 2.80\n",
      "Computed Ended for model GradientBoostingClassifier       & LogLoss Error Score: 2.66\n",
      "5.53488302230835\n"
     ]
    }
   ],
   "source": [
    "start = time.time()\n",
    "compute_in_parallel(models)\n",
    "end = time.time()\n",
    "print(end-start)"
   ]
  },
  {
   "cell_type": "code",
   "execution_count": 9,
   "metadata": {},
   "outputs": [
    {
     "name": "stdout",
     "output_type": "stream",
     "text": [
      "Starting Compute: RandomForestClassifier          \n",
      "Computed Ended for model RandomForestClassifier           & LogLoss Error Score: 2.73\n",
      "Starting Compute: AdaBoostClassifier              \n",
      "Computed Ended for model AdaBoostClassifier               & LogLoss Error Score: 2.68\n",
      "Starting Compute: ExtraTreesClassifier            \n",
      "Computed Ended for model ExtraTreesClassifier             & LogLoss Error Score: 2.82\n",
      "Starting Compute: GradientBoostingClassifier      \n",
      "Computed Ended for model GradientBoostingClassifier       & LogLoss Error Score: 2.66\n",
      "10.400805950164795\n"
     ]
    }
   ],
   "source": [
    "start = time.time()\n",
    "compute_in_sequence(models)\n",
    "end = time.time()\n",
    "print(end-start)"
   ]
  },
  {
   "cell_type": "markdown",
   "metadata": {},
   "source": [
    "### Ref:\n",
    "+ https://www.kaggle.com/des137/us-births-2018\n",
    "+ https://www.kaggle.com/des137/usbirths"
   ]
  }
 ],
 "metadata": {
  "kernelspec": {
   "display_name": "Python 3",
   "language": "python",
   "name": "python3"
  },
  "language_info": {
   "codemirror_mode": {
    "name": "ipython",
    "version": 3
   },
   "file_extension": ".py",
   "mimetype": "text/x-python",
   "name": "python",
   "nbconvert_exporter": "python",
   "pygments_lexer": "ipython3",
   "version": "3.7.4"
  }
 },
 "nbformat": 4,
 "nbformat_minor": 2
}
