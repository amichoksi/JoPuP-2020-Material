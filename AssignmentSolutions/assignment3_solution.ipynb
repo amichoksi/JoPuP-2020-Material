{
 "cells": [
  {
   "cell_type": "markdown",
   "metadata": {},
   "source": [
    "## Module 1: OOP"
   ]
  },
  {
   "cell_type": "code",
   "execution_count": null,
   "metadata": {},
   "outputs": [],
   "source": [
    "# Problem: Design classes where one is parent & other is child. let child call the parent method. [2 Points]\n",
    "\n",
    "class Parent:\n",
    "    def run_parent_method(self):\n",
    "        return \"This is parent method\"\n",
    "    \n",
    "class Child(Parent):\n",
    "    def run_child_method(self):\n",
    "        return \"This is child method\"\n",
    "\n",
    "assert Child().run_parent_method() == \"This is parent method\"\n",
    "assert Child().run_child_method() == \"This is child method\""
   ]
  },
  {
   "cell_type": "code",
   "execution_count": 21,
   "metadata": {},
   "outputs": [],
   "source": [
    "# Problem: add private varible that stores genearted uuid and write mechanism to access them for class instance object.\n",
    "#          you can use `str(uuid.uuid4())` to generate uuid    [4 Points]\n",
    "import uuid\n",
    "\n",
    "class Employee:\n",
    "    \n",
    "    def __init__(self, name, birth_year):\n",
    "        self.__uid = str(uuid.uuid4())\n",
    "        self.name = name\n",
    "        self.birth_year = birth_year\n",
    "    \n",
    "    def get_uuid(self):\n",
    "        return self.__uid\n",
    "\n",
    "emp = Employee(\"Foo\", 1998)\n",
    "generated_uuid = NotImplemented\n",
    "generated_uuid = emp.get_uuid()\n",
    "assert isinstance(generated_uuid, str)\n"
   ]
  },
  {
   "cell_type": "markdown",
   "metadata": {},
   "source": [
    "## Module 2: Iterables"
   ]
  },
  {
   "cell_type": "code",
   "execution_count": 25,
   "metadata": {},
   "outputs": [],
   "source": [
    "# Problem: Implement __iter__() and next() method for following class [6 Points]\n",
    "\n",
    "class SquareIterator:\n",
    "    \n",
    "    def __init__(self, limit):\n",
    "        self.limit = limit\n",
    "        self.n = 0\n",
    "    \n",
    "    def __iter__(self):\n",
    "        return self\n",
    "    \n",
    "    # for python3 compatibility\n",
    "    def __next__(self):\n",
    "        return self.next()\n",
    "    \n",
    "    def next(self):\n",
    "        if self.n < self.limit:\n",
    "            cur, self.n = self.n, self.n + 1\n",
    "            return cur*cur\n",
    "        else:\n",
    "            raise StopIteration()\n",
    "\n",
    "sq_itr1 = SquareIterator(5)\n",
    "assert list(sq_itr1) == [0, 1, 4, 9, 16]\n",
    "\n",
    "sq_itr1 = SquareIterator(101)\n",
    "assert sum(sq_itr1) == 338350"
   ]
  },
  {
   "cell_type": "code",
   "execution_count": 30,
   "metadata": {},
   "outputs": [],
   "source": [
    "# Problem: Create student objects with provided list of name and enrollment id using Zip [4 Points]\n",
    "\n",
    "class Student:\n",
    "    \n",
    "    def __init__(self, data):\n",
    "        self.name = data[0]\n",
    "        self.roll = data[1]\n",
    "\n",
    "names = [\"Rahul\", \"Shyam\", \"Krupa\", \"Aakash\"]\n",
    "enrollments = [1122, 2345, 1456, 2295]\n",
    "\n",
    "students = []\n",
    "for data in zip(names, enrollments):\n",
    "    students.append(Student(data))\n",
    "    \n",
    "assert len(students) == 4\n",
    "assert (students[0].name, students[0].roll) == (\"Rahul\", 1122)"
   ]
  },
  {
   "cell_type": "markdown",
   "metadata": {},
   "source": [
    "## Module 3: Data Processing "
   ]
  },
  {
   "cell_type": "code",
   "execution_count": 32,
   "metadata": {},
   "outputs": [
    {
     "name": "stdout",
     "output_type": "stream",
     "text": [
      "Collecting numpy\n",
      "  Downloading numpy-1.18.3-cp36-cp36m-manylinux1_x86_64.whl (20.2 MB)\n",
      "\u001b[K     |████████████████████████████████| 20.2 MB 164 kB/s  eta 0:00:01\n",
      "\u001b[?25hCollecting pandas\n",
      "  Downloading pandas-1.0.3-cp36-cp36m-manylinux1_x86_64.whl (10.0 MB)\n",
      "\u001b[K     |████████████████████████████████| 10.0 MB 265 kB/s  eta 0:00:01\n",
      "\u001b[?25hCollecting pytz>=2017.2\n",
      "  Downloading pytz-2019.3-py2.py3-none-any.whl (509 kB)\n",
      "\u001b[K     |████████████████████████████████| 509 kB 11.3 MB/s eta 0:00:01\n",
      "\u001b[?25hRequirement already satisfied: python-dateutil>=2.6.1 in /mnt/d/CKPCET Python Event/venv/lib/python3.6/site-packages (from pandas) (2.8.1)\n",
      "Requirement already satisfied: six>=1.5 in /mnt/d/CKPCET Python Event/venv/lib/python3.6/site-packages (from python-dateutil>=2.6.1->pandas) (1.14.0)\n",
      "Installing collected packages: numpy, pytz, pandas\n",
      "Successfully installed numpy-1.18.3 pandas-1.0.3 pytz-2019.3\n"
     ]
    }
   ],
   "source": [
    "! pip3 install numpy pandas"
   ]
  },
  {
   "cell_type": "code",
   "execution_count": 33,
   "metadata": {},
   "outputs": [],
   "source": [
    "import numpy as np\n",
    "np.random.seed(40)"
   ]
  },
  {
   "cell_type": "code",
   "execution_count": 37,
   "metadata": {},
   "outputs": [],
   "source": [
    "# Problem: create random integer numpy array with shape (30, 20) and values between 500 & 15000  [2 Points]\n",
    "np_array = np.random.randint(1, high=200000, size=(30,30))"
   ]
  },
  {
   "cell_type": "code",
   "execution_count": 39,
   "metadata": {},
   "outputs": [
    {
     "name": "stdout",
     "output_type": "stream",
     "text": [
      "590\n",
      "199526\n",
      "98919.08111111111\n",
      "99967.5\n",
      "56174.03743673247\n"
     ]
    }
   ],
   "source": [
    "# Problem: use the array created above an compute following: min, max, mean, median, stadard deviation [2 Points]\n",
    "print(np_array.min())\n",
    "print(np_array.max())\n",
    "print(np_array.mean())\n",
    "print(np.median(np_array))\n",
    "print(np_array.std())"
   ]
  },
  {
   "cell_type": "code",
   "execution_count": 43,
   "metadata": {},
   "outputs": [
    {
     "data": {
      "text/html": [
       "<div>\n",
       "<style scoped>\n",
       "    .dataframe tbody tr th:only-of-type {\n",
       "        vertical-align: middle;\n",
       "    }\n",
       "\n",
       "    .dataframe tbody tr th {\n",
       "        vertical-align: top;\n",
       "    }\n",
       "\n",
       "    .dataframe thead th {\n",
       "        text-align: right;\n",
       "    }\n",
       "</style>\n",
       "<table border=\"1\" class=\"dataframe\">\n",
       "  <thead>\n",
       "    <tr style=\"text-align: right;\">\n",
       "      <th></th>\n",
       "      <th>Name</th>\n",
       "      <th>Age</th>\n",
       "      <th>Rating</th>\n",
       "    </tr>\n",
       "  </thead>\n",
       "  <tbody>\n",
       "    <tr>\n",
       "      <th>0</th>\n",
       "      <td>Rishi</td>\n",
       "      <td>25</td>\n",
       "      <td>3.45</td>\n",
       "    </tr>\n",
       "    <tr>\n",
       "      <th>1</th>\n",
       "      <td>Aakash</td>\n",
       "      <td>35</td>\n",
       "      <td>5.67</td>\n",
       "    </tr>\n",
       "    <tr>\n",
       "      <th>2</th>\n",
       "      <td>Naveen</td>\n",
       "      <td>62</td>\n",
       "      <td>2.56</td>\n",
       "    </tr>\n",
       "    <tr>\n",
       "      <th>3</th>\n",
       "      <td>Ravi</td>\n",
       "      <td>45</td>\n",
       "      <td>8.45</td>\n",
       "    </tr>\n",
       "    <tr>\n",
       "      <th>4</th>\n",
       "      <td>Kajal</td>\n",
       "      <td>73</td>\n",
       "      <td>5.36</td>\n",
       "    </tr>\n",
       "    <tr>\n",
       "      <th>5</th>\n",
       "      <td>Alka</td>\n",
       "      <td>24</td>\n",
       "      <td>8.34</td>\n",
       "    </tr>\n",
       "    <tr>\n",
       "      <th>6</th>\n",
       "      <td>Divya</td>\n",
       "      <td>19</td>\n",
       "      <td>9.12</td>\n",
       "    </tr>\n",
       "  </tbody>\n",
       "</table>\n",
       "</div>"
      ],
      "text/plain": [
       "     Name  Age  Rating\n",
       "0   Rishi   25    3.45\n",
       "1  Aakash   35    5.67\n",
       "2  Naveen   62    2.56\n",
       "3    Ravi   45    8.45\n",
       "4   Kajal   73    5.36\n",
       "5    Alka   24    8.34\n",
       "6   Divya   19    9.12"
      ]
     },
     "execution_count": 43,
     "metadata": {},
     "output_type": "execute_result"
    }
   ],
   "source": [
    "# Problem: create pandas dataframe with three columns & seven rows. \n",
    "# Name, Age & Rating. Name: Person's name, Age: Person's age, Rating: credit rating out of 10    [3 Points]\n",
    "import pandas as pd\n",
    "df = pd.DataFrame(\n",
    "    {\n",
    "        \"Name\": pd.Series(['Rishi', 'Aakash', 'Naveen', 'Ravi', 'Kajal', 'Alka', 'Divya']),\n",
    "        \"Age\": pd.Series([25, 35, 62, 45, 73, 24, 19]),\n",
    "        \"Rating\": pd.Series([3.45, 5.67, 2.56, 8.45, 5.36, 8.34, 9.12])\n",
    "    }\n",
    ")\n",
    "df"
   ]
  },
  {
   "cell_type": "code",
   "execution_count": 46,
   "metadata": {},
   "outputs": [],
   "source": [
    "# use the abouve dataframe and answer following question\n",
    "# what is average age & rating in dataframe  [1 Points]\n",
    "# Give the name for people who has rating more than average [1 Points]\n",
    "# Give the name for person who is oldest [1 Points]\n",
    "\n",
    "mean_age = df['Age'].mean()\n",
    "mean_rating = df['Rating'].mean()"
   ]
  },
  {
   "cell_type": "code",
   "execution_count": 52,
   "metadata": {},
   "outputs": [
    {
     "data": {
      "text/plain": [
       "3     Ravi\n",
       "5     Alka\n",
       "6    Divya\n",
       "Name: Name, dtype: object"
      ]
     },
     "execution_count": 52,
     "metadata": {},
     "output_type": "execute_result"
    }
   ],
   "source": [
    "df[df['Rating']>mean_rating]['Name']"
   ]
  },
  {
   "cell_type": "code",
   "execution_count": 50,
   "metadata": {},
   "outputs": [
    {
     "data": {
      "text/plain": [
       "'Rishi'"
      ]
     },
     "execution_count": 50,
     "metadata": {},
     "output_type": "execute_result"
    }
   ],
   "source": [
    "df.max()['Name']"
   ]
  }
 ],
 "metadata": {
  "kernelspec": {
   "display_name": "Python 3",
   "language": "python",
   "name": "python3"
  },
  "language_info": {
   "codemirror_mode": {
    "name": "ipython",
    "version": 3
   },
   "file_extension": ".py",
   "mimetype": "text/x-python",
   "name": "python",
   "nbconvert_exporter": "python",
   "pygments_lexer": "ipython3",
   "version": "3.6.9"
  }
 },
 "nbformat": 4,
 "nbformat_minor": 4
}
