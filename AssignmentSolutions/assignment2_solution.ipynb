{
 "cells": [
  {
   "cell_type": "markdown",
   "metadata": {},
   "source": [
    "## Module 1: Python Essentials"
   ]
  },
  {
   "cell_type": "code",
   "execution_count": 10,
   "metadata": {},
   "outputs": [],
   "source": [
    "# Problem: Use list comprehension to filter number between given bounds [4 Points]\n",
    "def filter_integers_in_bound(upper_bound, lower_bound, numbers):\n",
    "    return [x for x in numbers if x in range(upper_bound, lower_bound+1)]\n",
    "\n",
    "assert filter_integers_in_bound(3, 9, [12, 3, 6, 9, 4, 0, 24]) == [3, 6, 9, 4]\n",
    "assert filter_integers_in_bound(-7, 6, [-10, 3, 56, 19, 4, 0, -5]) == [3, 4, 0, -5]"
   ]
  },
  {
   "cell_type": "code",
   "execution_count": 12,
   "metadata": {},
   "outputs": [],
   "source": [
    "# Problem: Use set to do following on two set of strings  [4 Points]\n",
    "def return_number_of_common_words(string1, string2):\n",
    "    set1 = set(string1.split())\n",
    "    set2 = set(string2.split())\n",
    "    return len(set1&set2)\n",
    "\n",
    "assert return_number_of_common_words(\"hi hello\", \"hi\") == 1\n",
    "assert return_number_of_common_words(\"this is testing work\", \"this is training work\") == 3\n",
    "assert return_number_of_common_words(\"work is in progress\", \"No one cares\") == 0"
   ]
  },
  {
   "cell_type": "code",
   "execution_count": 2,
   "metadata": {},
   "outputs": [],
   "source": [
    "# Problem: Returns the dictionary of words and their frequency in input string [6 Points]\n",
    "def get_word_count(input_string):\n",
    "    result = dict()\n",
    "    data = input_string.split()\n",
    "    for i in data:\n",
    "        if i not in result:\n",
    "            result[i]=1\n",
    "        else:\n",
    "            count=result[i]\n",
    "            result[i]=count+1\n",
    "    return result\n",
    "assert get_word_count(\"hi hello hi i\") == {\"hi\": 2, \"hello\": 1, \"i\": 1}"
   ]
  },
  {
   "cell_type": "code",
   "execution_count": 17,
   "metadata": {},
   "outputs": [],
   "source": [
    "# Problem: apply function on input and return result [2 Points]\n",
    "def method_runner(function, input_data):\n",
    "    return function(input_data)\n",
    "\n",
    "assert method_runner(min, [2, 5, 0.9, 6.4]) == 0.9\n",
    "assert method_runner(lambda x: x*x, 5) == 25\n",
    "def foo(n1):\n",
    "    return n1*n1+n1 \n",
    "assert method_runner(foo, 6) == 42"
   ]
  },
  {
   "cell_type": "markdown",
   "metadata": {},
   "source": [
    "## Module 2: OOP"
   ]
  },
  {
   "cell_type": "code",
   "execution_count": 35,
   "metadata": {},
   "outputs": [],
   "source": [
    "# Problem: 1. Design and write a class for Car with constructor. [2 Point]\n",
    "#          2. Include custom print capabilities. [1 Points] \n",
    "#          3. Also method to add & list features. [3 Points] \n",
    "#          4. Customize object compare so two cars are equal if make and model_name are same. [2 Point]\n",
    "\n",
    "\n",
    "class Car:\n",
    "    def __init__(self, make, year, model_name):\n",
    "        self.make = make\n",
    "        self.year = year\n",
    "        self.model_name = model_name\n",
    "        self.features = []\n",
    "    \n",
    "    def add_feature(self, feature):\n",
    "        self.features.append(feature)\n",
    "    \n",
    "    def list_features(self):\n",
    "        return self.features\n",
    "    \n",
    "    def __eq__(self, other):\n",
    "        return self.make == other.make and self.model_name == other.model_name\n",
    "    \n",
    "    def __str__(self):\n",
    "        return \"{0}'s model {1}, built in {2}.\".format(self.make, self.model_name, self.year)\n",
    "\n",
    "# 1\n",
    "c = Car(\"BMW\", 2015, \"X1\")\n",
    "# 2\n",
    "assert str(c) == \"BMW's model X1, built in 2015.\"\n",
    "# 3\n",
    "assert c.list_features() == []\n",
    "c.add_feature(\"iDrive 6.0 Systems\")\n",
    "c.add_feature(\"Dynamic Cruise Control\")\n",
    "assert c.list_features() == [\"iDrive 6.0 Systems\", \"Dynamic Cruise Control\"]\n",
    "# 4\n",
    "assert Car(\"BMW\", 2014, \"M8\") == Car(\"BMW\", 2018, \"M8\")\n",
    "assert Car(\"BMW\", 2014, \"M8\") != Car(\"BMW\", 2014, \"i220\")"
   ]
  },
  {
   "cell_type": "markdown",
   "metadata": {},
   "source": [
    "#### Remaining Problems moved to next assignment..."
   ]
  }
 ],
 "metadata": {
  "kernelspec": {
   "display_name": "Python 3",
   "language": "python",
   "name": "python3"
  },
  "language_info": {
   "codemirror_mode": {
    "name": "ipython",
    "version": 3
   },
   "file_extension": ".py",
   "mimetype": "text/x-python",
   "name": "python",
   "nbconvert_exporter": "python",
   "pygments_lexer": "ipython3",
   "version": "3.6.9"
  }
 },
 "nbformat": 4,
 "nbformat_minor": 4
}
